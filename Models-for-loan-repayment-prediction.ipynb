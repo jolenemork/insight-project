{
 "cells": [
  {
   "cell_type": "markdown",
   "metadata": {},
   "source": [
    "# Models to predict second loan repayment based on first loan characteristics"
   ]
  },
  {
   "cell_type": "code",
   "execution_count": 63,
   "metadata": {
    "collapsed": false
   },
   "outputs": [],
   "source": [
    "# import relevant modules\n",
    "import pandas as pd\n",
    "import numpy as np\n",
    "import datetime\n",
    "import matplotlib.pyplot as plt\n",
    "%matplotlib inline\n",
    "import seaborn as sns\n",
    "import time\n",
    "import math\n",
    "import datetime as dt\n",
    "from scipy import stats\n",
    "\n",
    "from sklearn.linear_model import LogisticRegression\n",
    "from sklearn.ensemble import RandomForestClassifier\n",
    "from sklearn.cross_validation import train_test_split\n",
    "from sklearn import metrics\n",
    "from sklearn.cross_validation import cross_val_score\n",
    "from sklearn import preprocessing\n",
    "from sklearn.grid_search import GridSearchCV\n",
    "\n",
    "from scipy import stats"
   ]
  },
  {
   "cell_type": "code",
   "execution_count": 64,
   "metadata": {
    "collapsed": false
   },
   "outputs": [
    {
     "data": {
      "text/html": [
       "<div>\n",
       "<table border=\"1\" class=\"dataframe\">\n",
       "  <thead>\n",
       "    <tr style=\"text-align: right;\">\n",
       "      <th></th>\n",
       "      <th>borrower_id</th>\n",
       "      <th>proposal_x</th>\n",
       "      <th>proposal_y</th>\n",
       "      <th>late_x</th>\n",
       "      <th>loan_amt</th>\n",
       "      <th>td_median</th>\n",
       "      <th>td_std</th>\n",
       "      <th>td_skew</th>\n",
       "      <th>td_kurt</th>\n",
       "      <th>paid_diff_std</th>\n",
       "      <th>...</th>\n",
       "      <th>loan_id</th>\n",
       "      <th>time_diff</th>\n",
       "      <th>usd_amount</th>\n",
       "      <th>lender_interest_rate</th>\n",
       "      <th>time_app_disb</th>\n",
       "      <th>appl_month</th>\n",
       "      <th>disb_month</th>\n",
       "      <th>applied_at</th>\n",
       "      <th>currency_code</th>\n",
       "      <th>late_y</th>\n",
       "    </tr>\n",
       "  </thead>\n",
       "  <tbody>\n",
       "    <tr>\n",
       "      <th>0</th>\n",
       "      <td>32768</td>\n",
       "      <td>Dear lenders first for all is to thank the Zid...</td>\n",
       "      <td>My second loan i intend to use it by....\\r\\n1....</td>\n",
       "      <td>0</td>\n",
       "      <td>78</td>\n",
       "      <td>0</td>\n",
       "      <td>2.110579</td>\n",
       "      <td>-2.84605</td>\n",
       "      <td>6.1</td>\n",
       "      <td>0</td>\n",
       "      <td>...</td>\n",
       "      <td>16330</td>\n",
       "      <td>0</td>\n",
       "      <td>78</td>\n",
       "      <td>0</td>\n",
       "      <td>11</td>\n",
       "      <td>4</td>\n",
       "      <td>4</td>\n",
       "      <td>2015-04-11</td>\n",
       "      <td>KES</td>\n",
       "      <td>0</td>\n",
       "    </tr>\n",
       "    <tr>\n",
       "      <th>1</th>\n",
       "      <td>32774</td>\n",
       "      <td>If and when my loan is fully funded i will be ...</td>\n",
       "      <td>when and if my loan project is fully funded i ...</td>\n",
       "      <td>0</td>\n",
       "      <td>100</td>\n",
       "      <td>0</td>\n",
       "      <td>0.000000</td>\n",
       "      <td>0.00000</td>\n",
       "      <td>-3.0</td>\n",
       "      <td>0</td>\n",
       "      <td>...</td>\n",
       "      <td>15006</td>\n",
       "      <td>0</td>\n",
       "      <td>100</td>\n",
       "      <td>0</td>\n",
       "      <td>12</td>\n",
       "      <td>3</td>\n",
       "      <td>3</td>\n",
       "      <td>2015-03-08</td>\n",
       "      <td>GHS</td>\n",
       "      <td>0</td>\n",
       "    </tr>\n",
       "  </tbody>\n",
       "</table>\n",
       "<p>2 rows × 25 columns</p>\n",
       "</div>"
      ],
      "text/plain": [
       "   borrower_id                                         proposal_x  \\\n",
       "0        32768  Dear lenders first for all is to thank the Zid...   \n",
       "1        32774  If and when my loan is fully funded i will be ...   \n",
       "\n",
       "                                          proposal_y  late_x  loan_amt  \\\n",
       "0  My second loan i intend to use it by....\\r\\n1....       0        78   \n",
       "1  when and if my loan project is fully funded i ...       0       100   \n",
       "\n",
       "   td_median    td_std  td_skew  td_kurt  paid_diff_std   ...    loan_id  \\\n",
       "0          0  2.110579 -2.84605      6.1              0   ...      16330   \n",
       "1          0  0.000000  0.00000     -3.0              0   ...      15006   \n",
       "\n",
       "   time_diff  usd_amount  lender_interest_rate  time_app_disb  appl_month  \\\n",
       "0          0          78                     0             11           4   \n",
       "1          0         100                     0             12           3   \n",
       "\n",
       "   disb_month  applied_at  currency_code  late_y  \n",
       "0           4  2015-04-11            KES       0  \n",
       "1           3  2015-03-08            GHS       0  \n",
       "\n",
       "[2 rows x 25 columns]"
      ]
     },
     "execution_count": 64,
     "metadata": {},
     "output_type": "execute_result"
    }
   ],
   "source": [
    "# Imported data used for cross correlation (pair) plots in Zidisha_Features_Models\n",
    "# generated in ZidishaNotebook_FeatureExploration_Models_iMac\n",
    "# note that late_y is whether the first loan was late at 6 months\n",
    "\n",
    "firstLoan_secondLabel = pd.read_csv('firstLoan_labelsFromSecondLoan.csv')\n",
    "firstLoan_secondLabel.drop('Unnamed: 0', axis = 1, inplace = True)\n",
    "firstLoan_secondLabel.head(2)"
   ]
  },
  {
   "cell_type": "code",
   "execution_count": 65,
   "metadata": {
    "collapsed": true
   },
   "outputs": [],
   "source": [
    "labels = firstLoan_secondLabel.late_x\n",
    "\n",
    "X = firstLoan_secondLabel[['td_median', 'td_std', 'td_skew', 'td_kurt', 'paid_diff_std',\n",
    "       'loan_ratio','applied_time_diff', 'prop_len_rat', 'time_diff',\n",
    "       'usd_amount', 'lender_interest_rate', 'time_app_disb']]\n",
    "\n",
    "# The first five columns, as well as usd_amt, and lender_interest_rate are from the first loan\n",
    "\n",
    "# Split features and labels into train and test sets\n",
    "X_train, X_test, y_train, y_test = train_test_split(X, labels, test_size=0.3, random_state=0)"
   ]
  },
  {
   "cell_type": "code",
   "execution_count": 66,
   "metadata": {
    "collapsed": false
   },
   "outputs": [
    {
     "data": {
      "text/plain": [
       "0.89673581452104945"
      ]
     },
     "execution_count": 66,
     "metadata": {},
     "output_type": "execute_result"
    }
   ],
   "source": [
    "rf = RandomForestClassifier(n_estimators=100,max_depth=10)\n",
    "rf.fit(X_train, y_train)\n",
    "predicted = rf.predict(X_test)\n",
    "probs = rf.predict_proba(X_test)\n",
    "# check the accuracy on the training set\n",
    "rf.score(X_train, y_train)"
   ]
  },
  {
   "cell_type": "code",
   "execution_count": 67,
   "metadata": {
    "collapsed": false
   },
   "outputs": [
    {
     "name": "stdout",
     "output_type": "stream",
     "text": [
      "Accuracy on test set is: 0.853380782918\n",
      "Precision is: 0.883064516129\n",
      "Recall is: 0.669042769857\n",
      "Area under ROC-curve is: 0.91400515627\n",
      "Classification Report: \n",
      "             precision    recall  f1-score   support\n",
      "\n",
      "        0.0       0.84      0.95      0.89      1828\n",
      "        1.0       0.88      0.67      0.76       982\n",
      "\n",
      "avg / total       0.86      0.85      0.85      2810\n",
      "\n"
     ]
    }
   ],
   "source": [
    "print \"Accuracy on test set is: \" + str(metrics.accuracy_score(y_test, predicted))\n",
    "print \"Precision is: \" + str(metrics.precision_score(y_test, predicted))\n",
    "print \"Recall is: \" + str(metrics.recall_score(y_test, predicted))\n",
    "print \"Area under ROC-curve is: \" + str(metrics.roc_auc_score(y_test, probs[:, 1]))\n",
    "print \"Classification Report: \\n\", metrics.classification_report(y_test, predicted)"
   ]
  },
  {
   "cell_type": "code",
   "execution_count": 68,
   "metadata": {
    "collapsed": false
   },
   "outputs": [
    {
     "data": {
      "image/png": "[encoded data removed]",
      "text/plain": [
       "<matplotlib.figure.Figure at 0x11be072d0>"
      ]
     },
     "metadata": {},
     "output_type": "display_data"
    }
   ],
   "source": [
    "fpr, tpr, threshold = metrics.roc_curve(y_test, probs[:, 1])\n",
    "roc_auc = metrics.auc(fpr, tpr)\n",
    "\n",
    "plt.title('RandomForests ROC with all features')\n",
    "plt.plot(fpr, tpr, 'b', label = 'AUC = %0.2f' % roc_auc)\n",
    "plt.legend(loc = 'lower right')\n",
    "plt.plot([0, 1], [0, 1],'r--')\n",
    "plt.xlim([0, 1])\n",
    "plt.ylim([0, 1])\n",
    "plt.ylabel('True Positive Rate')\n",
    "plt.xlabel('False Positive Rate')\n",
    "plt.show()"
   ]
  },
  {
   "cell_type": "code",
   "execution_count": 69,
   "metadata": {
    "collapsed": false
   },
   "outputs": [
    {
     "data": {
      "text/plain": [
       "GridSearchCV(cv=None, error_score='raise',\n",
       "       estimator=RandomForestClassifier(bootstrap=True, class_weight=None, criterion='gini',\n",
       "            max_depth=None, max_features='auto', max_leaf_nodes=None,\n",
       "            min_samples_leaf=1, min_samples_split=2,\n",
       "            min_weight_fraction_leaf=0.0, n_estimators=10, n_jobs=1,\n",
       "            oob_score=False, random_state=None, verbose=0,\n",
       "            warm_start=False),\n",
       "       fit_params={}, iid=True, n_jobs=1,\n",
       "       param_grid={'n_estimators': [100, 200, 500], 'max_features': ['auto', 'sqrt', 'log2'], 'max_depth': [10, 20, 50]},\n",
       "       pre_dispatch='2*n_jobs', refit=True, scoring='roc_auc', verbose=0)"
      ]
     },
     "execution_count": 69,
     "metadata": {},
     "output_type": "execute_result"
    }
   ],
   "source": [
    "gs_params = {'n_estimators': [100, 200, 500],\n",
    "             'max_features': ['auto', 'sqrt', 'log2'],\n",
    "            'max_depth': [10, 20, 50]}\n",
    "\n",
    "rfc = RandomForestClassifier()\n",
    "\n",
    "cv = GridSearchCV(estimator=rfc, param_grid = gs_params, scoring = 'roc_auc')\n",
    "\n",
    "cv.fit(X_train, y_train)"
   ]
  },
  {
   "cell_type": "code",
   "execution_count": 70,
   "metadata": {
    "collapsed": false
   },
   "outputs": [
    {
     "name": "stdout",
     "output_type": "stream",
     "text": [
      "0.941268676935\n",
      "{'max_features': 'auto', 'n_estimators': 500, 'max_depth': 50}\n"
     ]
    },
    {
     "data": {
      "image/png": "[encoded data removed]",
      "text/plain": [
       "<matplotlib.figure.Figure at 0x114cad6d0>"
      ]
     },
     "metadata": {},
     "output_type": "display_data"
    }
   ],
   "source": [
    "print cv.best_score_\n",
    "print cv.best_params_\n",
    "\n",
    "preds = cv.predict_proba(X_test)[:, 1]\n",
    "fpr, tpr, thresholds = metrics.roc_curve(y_test, preds)\n",
    "roc_auc = metrics.auc(fpr, tpr)\n",
    "\n",
    "plt.title('GridSearchCV ROC with all features')\n",
    "plt.plot(fpr, tpr, 'b', label = 'AUC = %0.2f' % roc_auc)\n",
    "plt.legend(loc = 'lower right')\n",
    "plt.plot([0, 1], [0, 1],'r--')\n",
    "plt.xlim([0, 1])\n",
    "plt.ylim([0, 1])\n",
    "plt.ylabel('True Positive Rate')\n",
    "plt.xlabel('False Positive Rate')\n",
    "plt.show()"
   ]
  },
  {
   "cell_type": "code",
   "execution_count": 71,
   "metadata": {
    "collapsed": false
   },
   "outputs": [
    {
     "name": "stdout",
     "output_type": "stream",
     "text": [
      "Accuracy on test set is: 0.893238434164\n",
      "Precision is: 0.880580357143\n",
      "Recall is: 0.803462321792\n",
      "Area under ROC-curve is: 0.953454299937\n",
      "Classification Report: \n",
      "             precision    recall  f1-score   support\n",
      "\n",
      "        0.0       0.90      0.94      0.92      1828\n",
      "        1.0       0.88      0.80      0.84       982\n",
      "\n",
      "avg / total       0.89      0.89      0.89      2810\n",
      "\n"
     ]
    }
   ],
   "source": [
    "predicted = cv.predict(X_test)\n",
    "probs = cv.predict_proba(X_test)\n",
    "\n",
    "print \"Accuracy on test set is: \" + str(metrics.accuracy_score(y_test, predicted))\n",
    "print \"Precision is: \" + str(metrics.precision_score(y_test, predicted))\n",
    "print \"Recall is: \" + str(metrics.recall_score(y_test, predicted))\n",
    "print \"Area under ROC-curve is: \" + str(metrics.roc_auc_score(y_test, probs[:, 1]))\n",
    "print \"Classification Report: \\n\", metrics.classification_report(y_test, predicted)"
   ]
  },
  {
   "cell_type": "code",
   "execution_count": 112,
   "metadata": {
    "collapsed": false
   },
   "outputs": [
    {
     "data": {
      "text/plain": [
       "GridSearchCV(cv=None, error_score='raise',\n",
       "       estimator=RandomForestClassifier(bootstrap=True, class_weight=None, criterion='gini',\n",
       "            max_depth=None, max_features='auto', max_leaf_nodes=None,\n",
       "            min_samples_leaf=1, min_samples_split=2,\n",
       "            min_weight_fraction_leaf=0.0, n_estimators=10, n_jobs=1,\n",
       "            oob_score=False, random_state=None, verbose=0,\n",
       "            warm_start=False),\n",
       "       fit_params={}, iid=True, loss_func=None, n_jobs=1,\n",
       "       param_grid={'n_estimators': [50, 100, 200], 'max_features': ['auto', 'sqrt', 'log2'], 'max_depth': [5, 10, 20]},\n",
       "       pre_dispatch='2*n_jobs', refit=True, score_func=None,\n",
       "       scoring='roc_auc', verbose=0)"
      ]
     },
     "execution_count": 112,
     "metadata": {},
     "output_type": "execute_result"
    }
   ],
   "source": [
    "gs_params1 = {'n_estimators': [50, 100, 200],\n",
    "             'max_features': ['auto', 'sqrt', 'log2'],\n",
    "            'max_depth': [5, 10, 20]}\n",
    "\n",
    "rfc1 = RandomForestClassifier()\n",
    "\n",
    "cv1 = GridSearchCV(estimator=rfc, param_grid = gs_params1, scoring = 'roc_auc')\n",
    "\n",
    "cv1.fit(X_train, y_train)"
   ]
  },
  {
   "cell_type": "code",
   "execution_count": 113,
   "metadata": {
    "collapsed": false
   },
   "outputs": [
    {
     "name": "stdout",
     "output_type": "stream",
     "text": [
      "0.939937721192\n",
      "{'max_features': 'sqrt', 'n_estimators': 200, 'max_depth': 20}\n"
     ]
    },
    {
     "data": {
      "image/png": "[encoded data removed]",
      "text/plain": [
       "<matplotlib.figure.Figure at 0x10c331b50>"
      ]
     },
     "metadata": {},
     "output_type": "display_data"
    }
   ],
   "source": [
    "print cv1.best_score_\n",
    "print cv1.best_params_\n",
    "\n",
    "preds1 = cv1.predict_proba(X_test)[:, 1]\n",
    "fpr, tpr, thresholds = metrics.roc_curve(y_test, preds1)\n",
    "roc_auc = metrics.auc(fpr, tpr)\n",
    "\n",
    "plt.title('GridSearchCV ROC with all features')\n",
    "plt.plot(fpr, tpr, 'b', label = 'AUC = %0.2f' % roc_auc)\n",
    "plt.legend(loc = 'lower right')\n",
    "plt.plot([0, 1], [0, 1],'r--')\n",
    "plt.xlim([0, 1])\n",
    "plt.ylim([0, 1])\n",
    "plt.ylabel('True Positive Rate')\n",
    "plt.xlabel('False Positive Rate')\n",
    "plt.show()"
   ]
  },
  {
   "cell_type": "code",
   "execution_count": 45,
   "metadata": {
    "collapsed": false
   },
   "outputs": [
    {
     "data": {
      "text/plain": [
       "0.986424649176327"
      ]
     },
     "execution_count": 45,
     "metadata": {},
     "output_type": "execute_result"
    }
   ],
   "source": [
    "# Do RF without grid search\n",
    "\n",
    "rfc2 = RandomForestClassifier(max_features= 'sqrt', n_estimators= 200, max_depth= 20)\n",
    "rfc2.fit(X_train, y_train)\n",
    "predicted4 = rfc2.predict(X_test)\n",
    "probs4 = rfc2.predict_proba(X_test)\n",
    "# check the accuracy on the training set\n",
    "rfc2.score(X_train, y_train)\n"
   ]
  },
  {
   "cell_type": "code",
   "execution_count": 49,
   "metadata": {
    "collapsed": false
   },
   "outputs": [
    {
     "data": {
      "text/html": [
       "<div>\n",
       "<table border=\"1\" class=\"dataframe\">\n",
       "  <thead>\n",
       "    <tr style=\"text-align: right;\">\n",
       "      <th></th>\n",
       "      <th>feature_name</th>\n",
       "      <th>weight</th>\n",
       "    </tr>\n",
       "  </thead>\n",
       "  <tbody>\n",
       "    <tr>\n",
       "      <th>0</th>\n",
       "      <td>td_median</td>\n",
       "      <td>0.087667</td>\n",
       "    </tr>\n",
       "    <tr>\n",
       "      <th>1</th>\n",
       "      <td>td_std</td>\n",
       "      <td>0.111757</td>\n",
       "    </tr>\n",
       "    <tr>\n",
       "      <th>2</th>\n",
       "      <td>td_skew</td>\n",
       "      <td>0.074902</td>\n",
       "    </tr>\n",
       "    <tr>\n",
       "      <th>3</th>\n",
       "      <td>td_kurt</td>\n",
       "      <td>0.082679</td>\n",
       "    </tr>\n",
       "    <tr>\n",
       "      <th>4</th>\n",
       "      <td>paid_diff_std</td>\n",
       "      <td>0.008617</td>\n",
       "    </tr>\n",
       "    <tr>\n",
       "      <th>5</th>\n",
       "      <td>loan_ratio</td>\n",
       "      <td>0.129797</td>\n",
       "    </tr>\n",
       "    <tr>\n",
       "      <th>6</th>\n",
       "      <td>applied_time_diff</td>\n",
       "      <td>0.121179</td>\n",
       "    </tr>\n",
       "    <tr>\n",
       "      <th>7</th>\n",
       "      <td>prop_len_rat</td>\n",
       "      <td>0.095167</td>\n",
       "    </tr>\n",
       "    <tr>\n",
       "      <th>8</th>\n",
       "      <td>time_diff</td>\n",
       "      <td>0.044149</td>\n",
       "    </tr>\n",
       "    <tr>\n",
       "      <th>9</th>\n",
       "      <td>usd_amount</td>\n",
       "      <td>0.098463</td>\n",
       "    </tr>\n",
       "    <tr>\n",
       "      <th>10</th>\n",
       "      <td>lender_interest_rate</td>\n",
       "      <td>0.076156</td>\n",
       "    </tr>\n",
       "    <tr>\n",
       "      <th>11</th>\n",
       "      <td>time_app_disb</td>\n",
       "      <td>0.069467</td>\n",
       "    </tr>\n",
       "  </tbody>\n",
       "</table>\n",
       "</div>"
      ],
      "text/plain": [
       "            feature_name    weight\n",
       "0              td_median  0.087667\n",
       "1                 td_std  0.111757\n",
       "2                td_skew  0.074902\n",
       "3                td_kurt  0.082679\n",
       "4          paid_diff_std  0.008617\n",
       "5             loan_ratio  0.129797\n",
       "6      applied_time_diff  0.121179\n",
       "7           prop_len_rat  0.095167\n",
       "8              time_diff  0.044149\n",
       "9             usd_amount  0.098463\n",
       "10  lender_interest_rate  0.076156\n",
       "11         time_app_disb  0.069467"
      ]
     },
     "execution_count": 49,
     "metadata": {},
     "output_type": "execute_result"
    }
   ],
   "source": [
    "importances = pd.DataFrame(zip(X.columns, np.transpose(rfc2.feature_importances_)))\n",
    "importances.columns = ['feature_name', 'weight']\n",
    "importances"
   ]
  },
  {
   "cell_type": "code",
   "execution_count": 56,
   "metadata": {
    "collapsed": false
   },
   "outputs": [],
   "source": [
    "importances = importances.sort(columns = 'weight', ascending = False)"
   ]
  },
  {
   "cell_type": "code",
   "execution_count": 62,
   "metadata": {
    "collapsed": false
   },
   "outputs": [
    {
     "data": {
      "image/png": "[encoded data removed]",
      "text/plain": [
       "<matplotlib.figure.Figure at 0x11f57b590>"
      ]
     },
     "metadata": {},
     "output_type": "display_data"
    }
   ],
   "source": [
    "g = sns.barplot(x = 'weight', y = 'feature_name', data = importances, orient = 'h', color = 'royalblue')"
   ]
  },
  {
   "cell_type": "code",
   "execution_count": 15,
   "metadata": {
    "collapsed": false
   },
   "outputs": [
    {
     "name": "stdout",
     "output_type": "stream",
     "text": [
      "Classification Report: \n",
      "             precision    recall  f1-score   support\n",
      "\n",
      "        0.0       0.90      0.94      0.92      1828\n",
      "        1.0       0.89      0.80      0.84       982\n",
      "\n",
      "avg / total       0.89      0.89      0.89      2810\n",
      "\n"
     ]
    }
   ],
   "source": [
    "print \"Classification Report: \\n\", metrics.classification_report(y_test, predicted4)"
   ]
  },
  {
   "cell_type": "code",
   "execution_count": 17,
   "metadata": {
    "collapsed": false
   },
   "outputs": [
    {
     "data": {
      "text/plain": [
       "<matplotlib.axes._subplots.AxesSubplot at 0x115aa0490>"
      ]
     },
     "execution_count": 17,
     "metadata": {},
     "output_type": "execute_result"
    },
    {
     "data": {
      "image/png": "[encoded data removed]",
      "text/plain": [
       "<matplotlib.figure.Figure at 0x115e46750>"
      ]
     },
     "metadata": {},
     "output_type": "display_data"
    }
   ],
   "source": [
    "# Sanity check:\n",
    "# Correlation between different parameters\n",
    "sns.set(font_scale=1.5)\n",
    "# Compute the correlation matrix\n",
    "corr = X.corr()\n",
    "\n",
    "# Generate a mask for the upper triangle\n",
    "mask = np.zeros_like(corr, dtype=np.bool)\n",
    "mask[np.triu_indices_from(mask)] = True\n",
    "\n",
    "# Set up the matplotlib figure\n",
    "f, ax = plt.subplots(figsize=(10, 10))\n",
    "\n",
    "# Generate a custom diverging colormap\n",
    "cmap = sns.diverging_palette(220, 10, as_cmap=True)\n",
    "\n",
    "# Draw the heatmap using seaborn\n",
    "sns.heatmap(corr, mask = mask, vmax=.8, square=True)\n",
    "\n",
    "# Draw the heatmap with the mask and correct aspect ratio\n",
    "#sns.heatmap(corr, mask=mask, cmap=cmap, vmax=.3,\n",
    "           # square=True, xticklabels=2, yticklabels=2,\n",
    "           # linewidths=.5,cbar_kws={\"shrink\": .75}, ax=ax)"
   ]
  },
  {
   "cell_type": "markdown",
   "metadata": {},
   "source": [
    "# Logistic Regression"
   ]
  },
  {
   "cell_type": "code",
   "execution_count": 5,
   "metadata": {
    "collapsed": false
   },
   "outputs": [],
   "source": [
    "Xlr = firstLoan_secondLabel[['td_std', 'loan_ratio', 'applied_time_diff', 'usd_amount']]\n",
    "Xlr_norm = preprocessing.normalize(Xlr)\n",
    "labels = firstLoan_secondLabel.late_x\n",
    "\n",
    "# Split features and labels into train and test sets\n",
    "X_train_lr, X_test_lr, y_train_lr, y_test_lr = train_test_split(Xlr_norm, labels, test_size=0.3, random_state=0)"
   ]
  },
  {
   "cell_type": "code",
   "execution_count": 7,
   "metadata": {
    "collapsed": false
   },
   "outputs": [
    {
     "name": "stdout",
     "output_type": "stream",
     "text": [
      "0.627364246492\n",
      "             precision    recall  f1-score   support\n",
      "\n",
      "        0.0       0.66      0.96      0.78      1828\n",
      "        1.0       0.54      0.08      0.14       982\n",
      "\n",
      "avg / total       0.62      0.65      0.56      2810\n",
      "\n"
     ]
    }
   ],
   "source": [
    "model = LogisticRegression()\n",
    "model = model.fit(X_train_lr, y_train_lr)\n",
    "print model.score(X_train_lr, y_train_lr)\n",
    "lrpredicted = model.predict(X_test_lr)\n",
    "lrprobs = model.predict_proba(X_test_lr)\n",
    "print metrics.classification_report(y_test_lr, lrpredicted)"
   ]
  },
  {
   "cell_type": "code",
   "execution_count": 45,
   "metadata": {
    "collapsed": false
   },
   "outputs": [
    {
     "data": {
      "text/html": [
       "<div>\n",
       "<table border=\"1\" class=\"dataframe\">\n",
       "  <thead>\n",
       "    <tr style=\"text-align: right;\">\n",
       "      <th></th>\n",
       "      <th>feature_name</th>\n",
       "      <th>weight_1</th>\n",
       "    </tr>\n",
       "  </thead>\n",
       "  <tbody>\n",
       "    <tr>\n",
       "      <th>0</th>\n",
       "      <td>td_std</td>\n",
       "      <td>[-0.0458158413392]</td>\n",
       "    </tr>\n",
       "    <tr>\n",
       "      <th>1</th>\n",
       "      <td>loan_ratio</td>\n",
       "      <td>[1.32415275989]</td>\n",
       "    </tr>\n",
       "    <tr>\n",
       "      <th>2</th>\n",
       "      <td>applied_time_diff</td>\n",
       "      <td>[0.610422780028]</td>\n",
       "    </tr>\n",
       "    <tr>\n",
       "      <th>3</th>\n",
       "      <td>usd_amount</td>\n",
       "      <td>[1.86752679735]</td>\n",
       "    </tr>\n",
       "  </tbody>\n",
       "</table>\n",
       "</div>"
      ],
      "text/plain": [
       "        feature_name            weight_1\n",
       "0             td_std  [-0.0458158413392]\n",
       "1         loan_ratio     [1.32415275989]\n",
       "2  applied_time_diff    [0.610422780028]\n",
       "3         usd_amount     [1.86752679735]"
      ]
     },
     "execution_count": 45,
     "metadata": {},
     "output_type": "execute_result"
    }
   ],
   "source": [
    "LR1 = pd.DataFrame(zip(Xlr.columns, np.transpose(model.coef_)))\n",
    "LR1.columns = ['feature_name', 'weight_1']\n",
    "LR1"
   ]
  },
  {
   "cell_type": "code",
   "execution_count": 17,
   "metadata": {
    "collapsed": false
   },
   "outputs": [
    {
     "data": {
      "text/plain": [
       "0.98428920073215376"
      ]
     },
     "execution_count": 17,
     "metadata": {},
     "output_type": "execute_result"
    }
   ],
   "source": [
    "# Do RF without grid search\n",
    "\n",
    "rfc3 = RandomForestClassifier(max_features= 'sqrt', n_estimators= 200, max_depth= 20)\n",
    "rfc3.fit(X_train_lr, y_train_lr)\n",
    "predicted_small = rfc3.predict(X_test_lr)\n",
    "probs_small = rfc3.predict_proba[:1](X_test_lr)\n",
    "# check the accuracy on the training set\n",
    "rfc3.score(X_train_lr, y_train_lr)\n"
   ]
  },
  {
   "cell_type": "code",
   "execution_count": 18,
   "metadata": {
    "collapsed": false
   },
   "outputs": [
    {
     "name": "stdout",
     "output_type": "stream",
     "text": [
      "             precision    recall  f1-score   support\n",
      "\n",
      "        0.0       0.89      0.91      0.90      1828\n",
      "        1.0       0.83      0.79      0.81       982\n",
      "\n",
      "avg / total       0.87      0.87      0.87      2810\n",
      "\n"
     ]
    }
   ],
   "source": [
    "print metrics.classification_report(y_test_lr, predicted_small)"
   ]
  },
  {
   "cell_type": "code",
   "execution_count": 19,
   "metadata": {
    "collapsed": false
   },
   "outputs": [
    {
     "data": {
      "text/html": [
       "<div>\n",
       "<table border=\"1\" class=\"dataframe\">\n",
       "  <thead>\n",
       "    <tr style=\"text-align: right;\">\n",
       "      <th></th>\n",
       "      <th>feature_name</th>\n",
       "      <th>weight</th>\n",
       "    </tr>\n",
       "  </thead>\n",
       "  <tbody>\n",
       "    <tr>\n",
       "      <th>0</th>\n",
       "      <td>td_std</td>\n",
       "      <td>0.253371</td>\n",
       "    </tr>\n",
       "    <tr>\n",
       "      <th>1</th>\n",
       "      <td>loan_ratio</td>\n",
       "      <td>0.294095</td>\n",
       "    </tr>\n",
       "    <tr>\n",
       "      <th>2</th>\n",
       "      <td>applied_time_diff</td>\n",
       "      <td>0.229535</td>\n",
       "    </tr>\n",
       "    <tr>\n",
       "      <th>3</th>\n",
       "      <td>usd_amount</td>\n",
       "      <td>0.223000</td>\n",
       "    </tr>\n",
       "  </tbody>\n",
       "</table>\n",
       "</div>"
      ],
      "text/plain": [
       "        feature_name    weight\n",
       "0             td_std  0.253371\n",
       "1         loan_ratio  0.294095\n",
       "2  applied_time_diff  0.229535\n",
       "3         usd_amount  0.223000"
      ]
     },
     "execution_count": 19,
     "metadata": {},
     "output_type": "execute_result"
    }
   ],
   "source": [
    "importances_small = pd.DataFrame(zip(Xlr.columns, np.transpose(rfc3.feature_importances_)))\n",
    "importances_small.columns = ['feature_name', 'weight']\n",
    "importances_small"
   ]
  },
  {
   "cell_type": "code",
   "execution_count": 20,
   "metadata": {
    "collapsed": false
   },
   "outputs": [
    {
     "data": {
      "text/plain": [
       "array([ 0.25337071,  0.29409502,  0.22953458,  0.22299969])"
      ]
     },
     "execution_count": 20,
     "metadata": {},
     "output_type": "execute_result"
    }
   ],
   "source": [
    "rfc3.feature_importances_"
   ]
  },
  {
   "cell_type": "code",
   "execution_count": 25,
   "metadata": {
    "collapsed": false
   },
   "outputs": [
    {
     "data": {
      "image/png": "[encoded data removed]",
      "text/plain": [
       "<matplotlib.figure.Figure at 0x114aa4750>"
      ]
     },
     "metadata": {},
     "output_type": "display_data"
    }
   ],
   "source": [
    "fpr, tpr, thresholds = metrics.roc_curve(y_test_lr, probs_small[:,1])\n",
    "roc_auc = metrics.auc(fpr, tpr)\n",
    "\n",
    "plt.title('Top Four Features RFC Model')\n",
    "plt.plot(fpr, tpr, 'b', label = 'AUC = %0.2f' % roc_auc)\n",
    "plt.legend(loc = 'lower right')\n",
    "plt.plot([0, 1], [0, 1],'r--')\n",
    "plt.xlim([0, 1])\n",
    "plt.ylim([0, 1])\n",
    "plt.ylabel('True Positive Rate')\n",
    "plt.xlabel('False Positive Rate')\n",
    "plt.show()"
   ]
  },
  {
   "cell_type": "code",
   "execution_count": null,
   "metadata": {
    "collapsed": true
   },
   "outputs": [],
   "source": []
  }
 ],
 "metadata": {
  "kernelspec": {
   "display_name": "Python 2",
   "language": "python",
   "name": "python2"
  },
  "language_info": {
   "codemirror_mode": {
    "name": "ipython",
    "version": 2
   },
   "file_extension": ".py",
   "mimetype": "text/x-python",
   "name": "python",
   "nbconvert_exporter": "python",
   "pygments_lexer": "ipython2",
   "version": "2.7.12"
  }
 },
 "nbformat": 4,
 "nbformat_minor": 0
}
