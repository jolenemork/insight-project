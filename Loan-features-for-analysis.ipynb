{
 "cells": [
  {
   "cell_type": "markdown",
   "metadata": {},
   "source": [
    "# Predicting late payment based on first installment characteristics"
   ]
  },
  {
   "cell_type": "code",
   "execution_count": 163,
   "metadata": {
    "collapsed": false
   },
   "outputs": [],
   "source": [
    "# import relevant modules\n",
    "import pandas as pd\n",
    "import numpy as np\n",
    "import datetime\n",
    "import matplotlib.pyplot as plt\n",
    "%matplotlib inline\n",
    "import seaborn as sns\n",
    "import time\n",
    "import math\n",
    "import datetime as dt\n",
    "from scipy import stats\n",
    "\n",
    "\n",
    "from sklearn.linear_model import LogisticRegression\n",
    "from sklearn.ensemble import RandomForestClassifier\n",
    "from sklearn.cross_validation import train_test_split\n",
    "from sklearn import metrics\n",
    "from sklearn.cross_validation import cross_val_score\n",
    "from sklearn import preprocessing\n",
    "from sklearn.grid_search import GridSearchCV\n"
   ]
  },
  {
   "cell_type": "code",
   "execution_count": 112,
   "metadata": {
    "collapsed": true
   },
   "outputs": [],
   "source": [
    "# Import query results to label whether each loan was repaid\n",
    "\n",
    "# These loans were repaid in fewer than 6 months\n",
    "repaid_6mo = pd.read_csv('~/Queries_20160929/Loans_Paid_LessThan6mo.csv')\n",
    "\n",
    "# These loans were on time at 6 months\n",
    "ontime_6mo = pd.read_csv('~/Queries_20160929/Loans_ontime_6mo.csv')\n",
    "\n",
    "# These loans had either never been paid or were late at 6 months\n",
    "late_6mo = pd.read_csv('~/Queries_20160929/Loans_Late_6mo.csv')"
   ]
  },
  {
   "cell_type": "code",
   "execution_count": 113,
   "metadata": {
    "collapsed": true
   },
   "outputs": [],
   "source": [
    "# set late label for loans based on how they were paid at 6 months\n",
    "repaid_6mo['late'] = 0\n",
    "ontime_6mo['late'] = 0\n",
    "late_6mo['late'] = 1"
   ]
  },
  {
   "cell_type": "code",
   "execution_count": 114,
   "metadata": {
    "collapsed": false
   },
   "outputs": [
    {
     "name": "stdout",
     "output_type": "stream",
     "text": [
      "22381\n"
     ]
    },
    {
     "data": {
      "text/html": [
       "<div>\n",
       "<table border=\"1\" class=\"dataframe\">\n",
       "  <thead>\n",
       "    <tr style=\"text-align: right;\">\n",
       "      <th></th>\n",
       "      <th>loan_id</th>\n",
       "      <th>borrower_id</th>\n",
       "      <th>late</th>\n",
       "    </tr>\n",
       "  </thead>\n",
       "  <tbody>\n",
       "    <tr>\n",
       "      <th>0</th>\n",
       "      <td>4627</td>\n",
       "      <td>10644</td>\n",
       "      <td>0</td>\n",
       "    </tr>\n",
       "    <tr>\n",
       "      <th>1</th>\n",
       "      <td>4628</td>\n",
       "      <td>10463</td>\n",
       "      <td>0</td>\n",
       "    </tr>\n",
       "    <tr>\n",
       "      <th>2</th>\n",
       "      <td>4737</td>\n",
       "      <td>14745</td>\n",
       "      <td>0</td>\n",
       "    </tr>\n",
       "    <tr>\n",
       "      <th>3</th>\n",
       "      <td>4741</td>\n",
       "      <td>12061</td>\n",
       "      <td>0</td>\n",
       "    </tr>\n",
       "    <tr>\n",
       "      <th>4</th>\n",
       "      <td>4755</td>\n",
       "      <td>4190</td>\n",
       "      <td>0</td>\n",
       "    </tr>\n",
       "  </tbody>\n",
       "</table>\n",
       "</div>"
      ],
      "text/plain": [
       "   loan_id  borrower_id  late\n",
       "0     4627        10644     0\n",
       "1     4628        10463     0\n",
       "2     4737        14745     0\n",
       "3     4741        12061     0\n",
       "4     4755         4190     0"
      ]
     },
     "execution_count": 114,
     "metadata": {},
     "output_type": "execute_result"
    }
   ],
   "source": [
    "# Make a single dataframe with all loans, including loan_id, borrower_id, and whether they were late.\n",
    "\n",
    "labeledLoans = repaid_6mo[['loan_id', 'borrower_id', 'late']]\n",
    "labeledLoans = labeledLoans.append(ontime_6mo[['loan_id', 'borrower_id', 'late']])\n",
    "labeledLoans = labeledLoans.append(late_6mo[['loan_id', 'borrower_id', 'late']])\n",
    "\n",
    "print len(labeledLoans)\n",
    "labeledLoans.head()"
   ]
  },
  {
   "cell_type": "code",
   "execution_count": 115,
   "metadata": {
    "collapsed": false
   },
   "outputs": [
    {
     "name": "stdout",
     "output_type": "stream",
     "text": [
      "20831\n"
     ]
    },
    {
     "data": {
      "text/html": [
       "<div>\n",
       "<table border=\"1\" class=\"dataframe\">\n",
       "  <thead>\n",
       "    <tr style=\"text-align: right;\">\n",
       "      <th></th>\n",
       "      <th>loan_id</th>\n",
       "      <th>borrower_id</th>\n",
       "      <th>disbursed_at</th>\n",
       "      <th>due_date</th>\n",
       "      <th>time_diff</th>\n",
       "      <th>due_amount</th>\n",
       "      <th>paid_amount</th>\n",
       "      <th>loan_amt</th>\n",
       "      <th>lender_interest_rate</th>\n",
       "      <th>applied_at</th>\n",
       "      <th>time_diff_app_disb</th>\n",
       "      <th>currency_code</th>\n",
       "    </tr>\n",
       "  </thead>\n",
       "  <tbody>\n",
       "    <tr>\n",
       "      <th>0</th>\n",
       "      <td>4737</td>\n",
       "      <td>14745</td>\n",
       "      <td>2014-01-21 23:00:00</td>\n",
       "      <td>2014-01-31 23:00:00</td>\n",
       "      <td>-21</td>\n",
       "      <td>13</td>\n",
       "      <td>13</td>\n",
       "      <td>50</td>\n",
       "      <td>2.63</td>\n",
       "      <td>2013-12-20 03:27:37</td>\n",
       "      <td>32</td>\n",
       "      <td>KES</td>\n",
       "    </tr>\n",
       "    <tr>\n",
       "      <th>1</th>\n",
       "      <td>4751</td>\n",
       "      <td>4034</td>\n",
       "      <td>2014-01-22 23:00:00</td>\n",
       "      <td>2014-01-30 23:00:00</td>\n",
       "      <td>8</td>\n",
       "      <td>6</td>\n",
       "      <td>6</td>\n",
       "      <td>281</td>\n",
       "      <td>3.71</td>\n",
       "      <td>2013-12-21 09:14:50</td>\n",
       "      <td>32</td>\n",
       "      <td>KES</td>\n",
       "    </tr>\n",
       "    <tr>\n",
       "      <th>2</th>\n",
       "      <td>4752</td>\n",
       "      <td>7697</td>\n",
       "      <td>2014-01-29 15:13:48</td>\n",
       "      <td>2014-02-06 15:13:48</td>\n",
       "      <td>NaN</td>\n",
       "      <td>16</td>\n",
       "      <td>NaN</td>\n",
       "      <td>96</td>\n",
       "      <td>0.00</td>\n",
       "      <td>2013-12-21 13:20:25</td>\n",
       "      <td>39</td>\n",
       "      <td>KES</td>\n",
       "    </tr>\n",
       "    <tr>\n",
       "      <th>3</th>\n",
       "      <td>4762</td>\n",
       "      <td>8171</td>\n",
       "      <td>2014-01-01 23:00:00</td>\n",
       "      <td>2014-01-12 23:00:00</td>\n",
       "      <td>0</td>\n",
       "      <td>3</td>\n",
       "      <td>3</td>\n",
       "      <td>50</td>\n",
       "      <td>2.75</td>\n",
       "      <td>2013-12-23 12:23:26</td>\n",
       "      <td>9</td>\n",
       "      <td>KES</td>\n",
       "    </tr>\n",
       "    <tr>\n",
       "      <th>4</th>\n",
       "      <td>4769</td>\n",
       "      <td>11482</td>\n",
       "      <td>2014-01-01 23:00:00</td>\n",
       "      <td>2014-01-12 23:00:00</td>\n",
       "      <td>0</td>\n",
       "      <td>26</td>\n",
       "      <td>26</td>\n",
       "      <td>448</td>\n",
       "      <td>6.74</td>\n",
       "      <td>2013-12-26 05:59:11</td>\n",
       "      <td>6</td>\n",
       "      <td>KES</td>\n",
       "    </tr>\n",
       "  </tbody>\n",
       "</table>\n",
       "</div>"
      ],
      "text/plain": [
       "   loan_id  borrower_id         disbursed_at             due_date  time_diff  \\\n",
       "0     4737        14745  2014-01-21 23:00:00  2014-01-31 23:00:00        -21   \n",
       "1     4751         4034  2014-01-22 23:00:00  2014-01-30 23:00:00          8   \n",
       "2     4752         7697  2014-01-29 15:13:48  2014-02-06 15:13:48        NaN   \n",
       "3     4762         8171  2014-01-01 23:00:00  2014-01-12 23:00:00          0   \n",
       "4     4769        11482  2014-01-01 23:00:00  2014-01-12 23:00:00          0   \n",
       "\n",
       "   due_amount  paid_amount  loan_amt  lender_interest_rate  \\\n",
       "0          13           13        50                  2.63   \n",
       "1           6            6       281                  3.71   \n",
       "2          16          NaN        96                  0.00   \n",
       "3           3            3        50                  2.75   \n",
       "4          26           26       448                  6.74   \n",
       "\n",
       "            applied_at  time_diff_app_disb currency_code  \n",
       "0  2013-12-20 03:27:37                  32           KES  \n",
       "1  2013-12-21 09:14:50                  32           KES  \n",
       "2  2013-12-21 13:20:25                  39           KES  \n",
       "3  2013-12-23 12:23:26                   9           KES  \n",
       "4  2013-12-26 05:59:11                   6           KES  "
      ]
     },
     "execution_count": 115,
     "metadata": {},
     "output_type": "execute_result"
    }
   ],
   "source": [
    "# Import data related to all the loans\n",
    "\n",
    "loanInfo = pd.read_csv('~/Queries_20160929/AllLoans_firstPayment1.csv')\n",
    "print len(loanInfo)\n",
    "loanInfo.head()"
   ]
  },
  {
   "cell_type": "code",
   "execution_count": 116,
   "metadata": {
    "collapsed": true
   },
   "outputs": [],
   "source": [
    "# change disbursed_at, due_date, and applied_at to Python datetime objects\n",
    "\n",
    "def convert_to_dt(string):\n",
    "    try:\n",
    "        dateobj = dt.datetime.strptime(string, '%Y-%m-%d %H:%M:%S')\n",
    "        return dateobj.date()\n",
    "    except:\n",
    "        pass\n",
    "\n",
    "loanInfo.disbursed_at = loanInfo.disbursed_at.apply(convert_to_dt)\n",
    "loanInfo.applied_at = loanInfo.applied_at.apply(convert_to_dt)\n",
    "loanInfo.due_date = loanInfo.due_date.apply(convert_to_dt)"
   ]
  },
  {
   "cell_type": "code",
   "execution_count": 117,
   "metadata": {
    "collapsed": false
   },
   "outputs": [],
   "source": [
    "# It is clear above that some people never paid the loan at all. This occurs when time_diff = NaN. \n",
    "# Since these borrowers never paid, their value for time_diff is set to a large number, in this case 200 days.\n",
    "\n",
    "loanInfo.time_diff = loanInfo.time_diff.fillna(200)"
   ]
  },
  {
   "cell_type": "code",
   "execution_count": 118,
   "metadata": {
    "collapsed": false
   },
   "outputs": [],
   "source": [
    "# Want to correlate borrowers in loans in two dictionaries\n",
    "# The dictionary loans has each loan number as a key and borrower as a value\n",
    "# the dictionary borrowers has each borrower as a key and their loans as a list of values\n",
    "\n",
    "borrowers_loans = labeledLoans[['loan_id', 'borrower_id']]\n",
    "\n",
    "loans = {}\n",
    "borrowers = {}\n",
    "for index, loan_id, borrower_id in borrowers_loans.itertuples():\n",
    "    if loan_id not in loans:\n",
    "        loans[loan_id] = borrower_id\n",
    "    if borrower_id not in borrowers:\n",
    "        borrowers[borrower_id] = [loan_id]\n",
    "    else:\n",
    "        borrowers[borrower_id].append(loan_id)"
   ]
  },
  {
   "cell_type": "code",
   "execution_count": 125,
   "metadata": {
    "collapsed": true
   },
   "outputs": [],
   "source": [
    "# Split the LoanInfo dataframe into several smaller dataframes for first loans, second loans, etc.\n",
    "# Borrowers with only one loan are single-loan borrowers, or slb \n",
    "# Borrowers with more than one loan are multi-loan borrowers, or mlb\n",
    "# the loans for multi-loan borrowers are split into their first loan (fl), second loan (sl), and third loan (tl)\n",
    "\n",
    "# This is the single piece of code that takes the longest to run.\n",
    "\n",
    "slb = pd.DataFrame()\n",
    "mlb_fl = pd.DataFrame()\n",
    "mlb_sl = pd.DataFrame()\n",
    "mlb_tl = pd.DataFrame()\n",
    "\n",
    "for keys, vals in borrowers.iteritems():\n",
    "    if len(vals) == 1:\n",
    "        slb = slb.append(loanInfo[loanInfo.loan_id == vals])\n",
    "    elif len(vals) > 1:\n",
    "        fl = vals[0] # the first item for a given borrower id = the first loan\n",
    "        sl = vals[1] # the second item is the second loans\n",
    "        mlb_fl = mlb_fl.append(loanInfo[loanInfo.loan_id == fl])\n",
    "        mlb_sl = mlb_sl.append(loanInfo[loanInfo.loan_id == sl])\n",
    "        try:\n",
    "            tl = vals[2] # the third item is the third loan_id\n",
    "            mlb_tl = mlb_tl.append(loanInfo[loanInfo.loan_id == tl])\n",
    "        except:\n",
    "            continue"
   ]
  },
  {
   "cell_type": "code",
   "execution_count": 58,
   "metadata": {
    "collapsed": true
   },
   "outputs": [],
   "source": [
    "# Merge the labels with the loan information, and first examine some overall statistics\n",
    "\n",
    "labeledLoanInfo = pd.merge(loanInfo, labeledLoans, how = 'inner', on = 'loan_id')"
   ]
  },
  {
   "cell_type": "code",
   "execution_count": 83,
   "metadata": {
    "collapsed": false
   },
   "outputs": [
    {
     "data": {
      "text/html": [
       "<div>\n",
       "<table border=\"1\" class=\"dataframe\">\n",
       "  <thead>\n",
       "    <tr style=\"text-align: right;\">\n",
       "      <th></th>\n",
       "      <th>loan_id</th>\n",
       "      <th>time_diff</th>\n",
       "      <th>late</th>\n",
       "    </tr>\n",
       "  </thead>\n",
       "  <tbody>\n",
       "    <tr>\n",
       "      <th>0</th>\n",
       "      <td>4737</td>\n",
       "      <td>-21</td>\n",
       "      <td>0</td>\n",
       "    </tr>\n",
       "    <tr>\n",
       "      <th>1</th>\n",
       "      <td>4751</td>\n",
       "      <td>8</td>\n",
       "      <td>0</td>\n",
       "    </tr>\n",
       "    <tr>\n",
       "      <th>2</th>\n",
       "      <td>4762</td>\n",
       "      <td>0</td>\n",
       "      <td>0</td>\n",
       "    </tr>\n",
       "    <tr>\n",
       "      <th>3</th>\n",
       "      <td>4769</td>\n",
       "      <td>0</td>\n",
       "      <td>0</td>\n",
       "    </tr>\n",
       "    <tr>\n",
       "      <th>4</th>\n",
       "      <td>4777</td>\n",
       "      <td>-1</td>\n",
       "      <td>0</td>\n",
       "    </tr>\n",
       "  </tbody>\n",
       "</table>\n",
       "</div>"
      ],
      "text/plain": [
       "   loan_id  time_diff  late\n",
       "0     4737        -21     0\n",
       "1     4751          8     0\n",
       "2     4762          0     0\n",
       "3     4769          0     0\n",
       "4     4777         -1     0"
      ]
     },
     "execution_count": 83,
     "metadata": {},
     "output_type": "execute_result"
    }
   ],
   "source": [
    "labeledLoanInfo[['loan_id', 'time_diff', 'late']].head()"
   ]
  },
  {
   "cell_type": "markdown",
   "metadata": {},
   "source": [
    "### Overall distribution of initial payment times"
   ]
  },
  {
   "cell_type": "code",
   "execution_count": 84,
   "metadata": {
    "collapsed": false
   },
   "outputs": [
    {
     "data": {
      "text/plain": [
       "[(-100, 250)]"
      ]
     },
     "execution_count": 84,
     "metadata": {},
     "output_type": "execute_result"
    },
    {
     "data": {
      "image/png": "[encoded data removed]",
      "text/plain": [
       "<matplotlib.figure.Figure at 0x1186e2e90>"
      ]
     },
     "metadata": {},
     "output_type": "display_data"
    }
   ],
   "source": [
    "# First plot: what is the overall distribution of time differences between the due date and the paid date\n",
    "# for the first installment?\n",
    "\n",
    "ax = sns.boxplot(x=\"late\", y=\"time_diff\", data=labeledLoanInfo)\n",
    "ax.set(ylim=(-100, 250))"
   ]
  },
  {
   "cell_type": "code",
   "execution_count": 85,
   "metadata": {
    "collapsed": false
   },
   "outputs": [
    {
     "data": {
      "text/plain": [
       "[(-100, 250)]"
      ]
     },
     "execution_count": 85,
     "metadata": {},
     "output_type": "execute_result"
    },
    {
     "data": {
      "image/png": "[encoded data removed]",
      "text/plain": [
       "<matplotlib.figure.Figure at 0x118b0ced0>"
      ]
     },
     "metadata": {},
     "output_type": "display_data"
    }
   ],
   "source": [
    "ax = sns.violinplot(x=\"late\", y=\"time_diff\", data=labeledLoanInfo, cut = 0)\n",
    "ax.set(ylim=(-100, 250))"
   ]
  },
  {
   "cell_type": "markdown",
   "metadata": {},
   "source": [
    "### Timeliness by Loan Number"
   ]
  },
  {
   "cell_type": "code",
   "execution_count": 61,
   "metadata": {
    "collapsed": true
   },
   "outputs": [],
   "source": [
    "# Now want to get default probability if payment status checked at various dates after the first date.\n",
    "\n",
    "checkDates = [0, 5, 10, 15, 20, 30, 50]\n",
    "\n",
    "def getLateRate(checkDates, df):\n",
    "    \"\"\" Returns dictionary (to turn into a dataframe) with late probabilities for outstanding loans various days\n",
    "    past due. Dataframe (df) must have column 'late' and 'time_diff'. \"\"\"\n",
    "    late_frac = []\n",
    "    late_frac_CI = []\n",
    "    for date in checkDates:\n",
    "        laterate = float(sum(df[df.late == 1].time_diff >= date)) / sum(df.time_diff >=date)\n",
    "        CI = math.sqrt((laterate*(1-laterate))/sum(df.time_diff >=date))\n",
    "        late_frac.append(laterate)\n",
    "        late_frac_CI.append(CI)\n",
    "    \n",
    "    lateProb = {\n",
    "        'daysAfterDue': checkDates,\n",
    "        'fraction_late': late_frac,\n",
    "        'CI': late_frac_CI\n",
    "    }\n",
    "    \n",
    "    return lateProb\n",
    "\n",
    "\n",
    "def RiskRatio(checkDates, df):\n",
    "    \"\"\" Has same df requirements as getLateRate. Returns list of risk ratios\"\"\"\n",
    "    \n",
    "    rr = []\n",
    "    for date in checkDates:\n",
    "        numerator = float(sum(df[df.late == 1].time_diff >= date)) / sum(df.time_diff >=date)\n",
    "        denominator = float(sum(df[df.late == 1].time_diff <= date)) / sum(df.time_diff <=date)\n",
    "        rr.append(numerator/denominator)\n",
    "    return rr\n"
   ]
  },
  {
   "cell_type": "code",
   "execution_count": 62,
   "metadata": {
    "collapsed": true
   },
   "outputs": [],
   "source": [
    "allLoans_lateProbs = getLateRate(checkDates, labeledLoanInfo)\n",
    "allLoans_rr = RiskRatio(checkDates, labeledLoanInfo)"
   ]
  },
  {
   "cell_type": "code",
   "execution_count": 63,
   "metadata": {
    "collapsed": false
   },
   "outputs": [
    {
     "data": {
      "image/png": "[encoded data removed]",
      "text/plain": [
       "<matplotlib.figure.Figure at 0x118e99ed0>"
      ]
     },
     "metadata": {},
     "output_type": "display_data"
    }
   ],
   "source": [
    "# Plot risk ratio as a function of number of days after the initial installment due date\n",
    "# For example, if a loan is still outstanding 10 days after it was due, it is twice as likely to default\n",
    "# as a loan that had been paid by that time.\n",
    "\n",
    "fig, ax = plt.subplots()\n",
    "plt.scatter(checkDates, allLoans_rr, s = 100)\n",
    "\n",
    "for item in (ax.get_xticklabels() + ax.get_yticklabels()):\n",
    "    item.set_fontsize(14)\n",
    "plt.show()"
   ]
  },
  {
   "cell_type": "code",
   "execution_count": 88,
   "metadata": {
    "collapsed": false
   },
   "outputs": [
    {
     "data": {
      "image/png": "[encoded data removed]",
      "text/plain": [
       "<matplotlib.figure.Figure at 0x1154dbdd0>"
      ]
     },
     "metadata": {},
     "output_type": "display_data"
    }
   ],
   "source": [
    "# Plot the default probability for loans that are outstanding some number of days after the first installment\n",
    "# due date. For example, loans still outstanding at 10 days after the initial due date have a 75% chance\n",
    "# of defaulting (being late at 6 months)\n",
    "\n",
    "allLoans_lateProbs_df = pd.DataFrame(allLoans_lateProbs)\n",
    "\n",
    "indicies = np.arange(len(allLoans_lateProbs_df))\n",
    "width = 0.5\n",
    "\n",
    "fig, ax = plt.subplots(figsize = (6.44,4))\n",
    "rects = ax.bar(indicies, allLoans_lateProbs_df.fraction_late, width, color = 'deepskyblue', yerr= allLoans_lateProbs_df.CI, \n",
    "              error_kw=dict(ecolor='black', lw=1, capsize=5, capthick=1))\n",
    "ax.set_ylabel('6 month late probability for outstanding loans')\n",
    "ax.set_xlabel('Days after first installment  due')\n",
    "#ax.set_title('6 Month Late Payment Risk')\n",
    "ax.set_xticks(indicies + width/2)\n",
    "ax.set_xticklabels(allLoans_lateProbs_df.daysAfterDue)\n",
    "\n",
    "\n",
    "for item in (ax.get_xticklabels() + ax.get_yticklabels()):\n",
    "    item.set_fontsize(14)\n",
    "\n",
    "\n",
    "plt.show()"
   ]
  },
  {
   "cell_type": "code",
   "execution_count": 124,
   "metadata": {
    "collapsed": false
   },
   "outputs": [
    {
     "data": {
      "text/html": [
       "<div>\n",
       "<table border=\"1\" class=\"dataframe\">\n",
       "  <thead>\n",
       "    <tr style=\"text-align: right;\">\n",
       "      <th></th>\n",
       "      <th>loan_id</th>\n",
       "      <th>borrower_id_x</th>\n",
       "      <th>disbursed_at</th>\n",
       "      <th>due_date</th>\n",
       "      <th>time_diff</th>\n",
       "      <th>due_amount</th>\n",
       "      <th>paid_amount</th>\n",
       "      <th>loan_amt</th>\n",
       "      <th>lender_interest_rate</th>\n",
       "      <th>applied_at</th>\n",
       "      <th>time_diff_app_disb</th>\n",
       "      <th>currency_code</th>\n",
       "      <th>borrower_id_y</th>\n",
       "      <th>late</th>\n",
       "    </tr>\n",
       "  </thead>\n",
       "  <tbody>\n",
       "    <tr>\n",
       "      <th>5836</th>\n",
       "      <td>16330</td>\n",
       "      <td>32768</td>\n",
       "      <td>2015-04-22</td>\n",
       "      <td>2015-05-03</td>\n",
       "      <td>0</td>\n",
       "      <td>7.00</td>\n",
       "      <td>7.00</td>\n",
       "      <td>78</td>\n",
       "      <td>0</td>\n",
       "      <td>2015-04-11</td>\n",
       "      <td>11</td>\n",
       "      <td>KES</td>\n",
       "      <td>32768</td>\n",
       "      <td>0</td>\n",
       "    </tr>\n",
       "    <tr>\n",
       "      <th>5197</th>\n",
       "      <td>15006</td>\n",
       "      <td>32774</td>\n",
       "      <td>2015-03-20</td>\n",
       "      <td>2015-03-29</td>\n",
       "      <td>0</td>\n",
       "      <td>17.00</td>\n",
       "      <td>17.00</td>\n",
       "      <td>100</td>\n",
       "      <td>0</td>\n",
       "      <td>2015-03-08</td>\n",
       "      <td>12</td>\n",
       "      <td>GHS</td>\n",
       "      <td>32774</td>\n",
       "      <td>0</td>\n",
       "    </tr>\n",
       "    <tr>\n",
       "      <th>5599</th>\n",
       "      <td>15842</td>\n",
       "      <td>32775</td>\n",
       "      <td>2015-04-08</td>\n",
       "      <td>2015-04-19</td>\n",
       "      <td>9</td>\n",
       "      <td>18.00</td>\n",
       "      <td>18.00</td>\n",
       "      <td>100</td>\n",
       "      <td>0</td>\n",
       "      <td>2015-03-27</td>\n",
       "      <td>12</td>\n",
       "      <td>KES</td>\n",
       "      <td>32775</td>\n",
       "      <td>0</td>\n",
       "    </tr>\n",
       "    <tr>\n",
       "      <th>11756</th>\n",
       "      <td>28020</td>\n",
       "      <td>32777</td>\n",
       "      <td>2016-02-07</td>\n",
       "      <td>2016-02-18</td>\n",
       "      <td>2</td>\n",
       "      <td>2.01</td>\n",
       "      <td>2.01</td>\n",
       "      <td>91</td>\n",
       "      <td>0</td>\n",
       "      <td>2016-02-06</td>\n",
       "      <td>1</td>\n",
       "      <td>KES</td>\n",
       "      <td>32777</td>\n",
       "      <td>0</td>\n",
       "    </tr>\n",
       "    <tr>\n",
       "      <th>5154</th>\n",
       "      <td>14876</td>\n",
       "      <td>32779</td>\n",
       "      <td>2015-03-28</td>\n",
       "      <td>2015-04-05</td>\n",
       "      <td>0</td>\n",
       "      <td>7.00</td>\n",
       "      <td>7.00</td>\n",
       "      <td>100</td>\n",
       "      <td>0</td>\n",
       "      <td>2015-03-05</td>\n",
       "      <td>22</td>\n",
       "      <td>IDR</td>\n",
       "      <td>32779</td>\n",
       "      <td>0</td>\n",
       "    </tr>\n",
       "  </tbody>\n",
       "</table>\n",
       "</div>"
      ],
      "text/plain": [
       "       loan_id  borrower_id_x disbursed_at    due_date  time_diff  due_amount  \\\n",
       "5836     16330          32768   2015-04-22  2015-05-03          0        7.00   \n",
       "5197     15006          32774   2015-03-20  2015-03-29          0       17.00   \n",
       "5599     15842          32775   2015-04-08  2015-04-19          9       18.00   \n",
       "11756    28020          32777   2016-02-07  2016-02-18          2        2.01   \n",
       "5154     14876          32779   2015-03-28  2015-04-05          0        7.00   \n",
       "\n",
       "       paid_amount  loan_amt  lender_interest_rate  applied_at  \\\n",
       "5836          7.00        78                     0  2015-04-11   \n",
       "5197         17.00       100                     0  2015-03-08   \n",
       "5599         18.00       100                     0  2015-03-27   \n",
       "11756         2.01        91                     0  2016-02-06   \n",
       "5154          7.00       100                     0  2015-03-05   \n",
       "\n",
       "       time_diff_app_disb currency_code  borrower_id_y  late  \n",
       "5836                   11           KES          32768     0  \n",
       "5197                   12           GHS          32774     0  \n",
       "5599                   12           KES          32775     0  \n",
       "11756                   1           KES          32777     0  \n",
       "5154                   22           IDR          32779     0  "
      ]
     },
     "execution_count": 124,
     "metadata": {},
     "output_type": "execute_result"
    }
   ],
   "source": [
    "# This data frame shows information about the first loan for borrowers who had more than one loan\n",
    "mlb_fl.head()"
   ]
  },
  {
   "cell_type": "code",
   "execution_count": 134,
   "metadata": {
    "collapsed": true
   },
   "outputs": [],
   "source": [
    "# Now I will look at each of the populations of loans individually, which starts by labeling them.\n",
    "\n",
    "slb_labeled = pd.merge(slb, labeledLoans, how = 'inner', on = 'loan_id')\n",
    "\n",
    "mlb_fl_labeled = pd.merge(mlb_fl, labeledLoans, how = 'inner', on = 'loan_id')\n",
    "mlb_sl_labeled = pd.merge(mlb_sl, labeledLoans, how = 'inner', on = 'loan_id')\n",
    "mlb_tl_labeled = pd.merge(mlb_tl, labeledLoans, how = 'inner', on = 'loan_id')"
   ]
  },
  {
   "cell_type": "code",
   "execution_count": 127,
   "metadata": {
    "collapsed": true
   },
   "outputs": [],
   "source": [
    "# The data for all first loans contains the first loans that never received a second loan (slb)\n",
    "# as well as the first loan for people who have receied second loans (mlb_fl)\n",
    "firstloans = slb_labeled.append(mlb_fl_labeled)"
   ]
  },
  {
   "cell_type": "code",
   "execution_count": 71,
   "metadata": {
    "collapsed": false
   },
   "outputs": [],
   "source": [
    "# These are the late probabilities and risk ratios for the loans broken down by loan number\n",
    "\n",
    "lateProbs_firstLoan = getLateRate(checkDates, firstloans)\n",
    "firstLoan_rr = RiskRatio(checkDates, firstloans)\n",
    "\n",
    "lateProbs_secondLoan = getLateRate(checkDates, mlb_sl_labeled)\n",
    "secondLoan_rr = RiskRatio(checkDates, mlb_sl_labeled)\n",
    "\n",
    "lateProbs_thirdLoan = getLateRate(checkDates, mlb_tl_labeled)\n",
    "thirdLoan_rr = RiskRatio(checkDates, mlb_tl_labeled)"
   ]
  },
  {
   "cell_type": "code",
   "execution_count": 72,
   "metadata": {
    "collapsed": true
   },
   "outputs": [],
   "source": [
    "# Put the results of the lateProbs calculations into data frames\n",
    "loan1 = pd.DataFrame(lateProbs_firstLoan)\n",
    "loan2 = pd.DataFrame(lateProbs_secondLoan)\n",
    "loan3 = pd.DataFrame(lateProbs_thirdLoan)"
   ]
  },
  {
   "cell_type": "code",
   "execution_count": 89,
   "metadata": {
    "collapsed": false
   },
   "outputs": [
    {
     "data": {
      "image/png": "[encoded data removed]",
      "text/plain": [
       "<matplotlib.figure.Figure at 0x1154db450>"
      ]
     },
     "metadata": {},
     "output_type": "display_data"
    }
   ],
   "source": [
    "# Making a bar plot\n",
    "\n",
    "indicies = np.arange(len(loan1))\n",
    "width = 0.3\n",
    "\n",
    "fig, ax = plt.subplots(figsize = (7,4))\n",
    "\n",
    "rects1 = ax.bar(indicies, loan1.fraction_late, width, color = 'deepskyblue', \n",
    "               yerr= loan1.CI,\n",
    "              error_kw=dict(ecolor='black', lw=1, capsize=5, capthick=1))\n",
    "rects2 = ax.bar(indicies + width, loan2.fraction_late, width, color='cornflowerblue', yerr=loan2.CI,\n",
    "               error_kw=dict(ecolor='black', lw=1, capsize=5, capthick=1))\n",
    "rects3 = ax.bar(indicies + 2*width, loan3.fraction_late, width, color='darkorchid', yerr=loan3.CI,\n",
    "               error_kw=dict(ecolor='black', lw=1, capsize=5, capthick=1))\n",
    "\n",
    "ax.set_ylabel('6 month late probability for outstanding loans')\n",
    "ax.set_xlabel('Days after first installment  due')\n",
    "#ax.set_ylabel('Late Rate For Outstanding Loans')\n",
    "#ax.set_xlabel('Days after Week1 Loan Due')\n",
    "#ax.set_title('6 Month Late Payment Risk')\n",
    "ax.set_xticks(indicies + (float(4)/3)*width)\n",
    "ax.set_xticklabels((checkDates))\n",
    "ax.legend((rects1[0], rects2[0], rects3[0]), ('First Loan', 'Second Loan', 'Third Loan'), loc = 'best', bbox_to_anchor=(1, 0.5),\n",
    "         prop={'size':12})\n",
    "for item in (ax.get_xticklabels() + ax.get_yticklabels()):\n",
    "    item.set_fontsize(14)\n",
    "\n",
    "plt.show()"
   ]
  },
  {
   "cell_type": "code",
   "execution_count": 90,
   "metadata": {
    "collapsed": false
   },
   "outputs": [
    {
     "data": {
      "image/png": "[encoded data removed]",
      "text/plain": [
       "<matplotlib.figure.Figure at 0x119a16750>"
      ]
     },
     "metadata": {},
     "output_type": "display_data"
    }
   ],
   "source": [
    "# Split out and plot the risk ratios for different plots\n",
    "\n",
    "fig = plt.figure()\n",
    "ax = fig.add_subplot(111)\n",
    "ax.scatter(checkDates, firstLoan_rr, s = 200, color = 'deepskyblue', label = 'First Loan')\n",
    "ax.scatter(checkDates, secondLoan_rr, s = 200, color = 'cornflowerblue', label = 'Second Loan')\n",
    "ax.scatter(checkDates, thirdLoan_rr, s = 200, color = 'darkorchid', label = 'Third Loan')\n",
    "ax.legend(loc = 'upper left', prop={'size':16})\n",
    "ax.set_ylabel('6 month late probability for outstanding loans')\n",
    "ax.set_xlabel('Days after first installment  due')\n",
    "for item in (ax.get_xticklabels() + ax.get_yticklabels()):\n",
    "    item.set_fontsize(14)\n",
    "plt.show()"
   ]
  },
  {
   "cell_type": "markdown",
   "metadata": {},
   "source": [
    "### Timeliness by Country"
   ]
  },
  {
   "cell_type": "code",
   "execution_count": 91,
   "metadata": {
    "collapsed": true
   },
   "outputs": [],
   "source": [
    "# Now lets separate by country (indicated by \"country code\")\n",
    "\n",
    "def getLateRate_country(checkDates, df, country):\n",
    "    \"\"\" Return dictionary to turn into a dataframe with late probabilities for outstanding loans various days\n",
    "    past due. Dataframe (df) must have column 'late' and 'time_diff'. \"\"\"\n",
    "    late_frac = []\n",
    "    late_frac_CI = []\n",
    "    df = df[df['currency_code'] == country]\n",
    "    for date in checkDates:\n",
    "        try:\n",
    "            laterate = float(sum(df[df.late == 1].time_diff >= date)) / sum(df.time_diff >=date)\n",
    "            CI = math.sqrt((laterate*(1-laterate))/sum(df.time_diff >=date))\n",
    "            late_frac.append(laterate)\n",
    "            late_frac_CI.append(CI)\n",
    "        except ZeroDivisionError:\n",
    "            continue\n",
    "    \n",
    "    lateProb = {\n",
    "        'daysAfterDue': checkDates,\n",
    "        'fraction_late': late_frac,\n",
    "        'CI': late_frac_CI\n",
    "    }\n",
    "    \n",
    "    return lateProb\n",
    "\n",
    "\n",
    "def RiskRatio_country(checkDates, df, country):\n",
    "    \"\"\" Has same df requirements as getLateRate\"\"\"\n",
    "    \n",
    "    rr = []\n",
    "    df = df[df['currency_code'] == country]\n",
    "    for date in checkDates:\n",
    "        numerator = float(sum(df[df.late == 1].time_diff >= date)) / sum(df.time_diff >=date)\n",
    "        denominator = float(sum(df[df.late == 1].time_diff <= date)) / sum(df.time_diff <=date)\n",
    "        rr.append(numerator/denominator)\n",
    "    return rr"
   ]
  },
  {
   "cell_type": "code",
   "execution_count": 92,
   "metadata": {
    "collapsed": true
   },
   "outputs": [],
   "source": [
    "countries = set(labeledLoanInfo.currency_code.unique())\n",
    "laterates_country = {}\n",
    "riskratios_country = {}\n",
    "\n",
    "for country in countries:\n",
    "    laterates_country[country] = getLateRate_country(checkDates, labeledLoanInfo, country)"
   ]
  },
  {
   "cell_type": "code",
   "execution_count": 93,
   "metadata": {
    "collapsed": false
   },
   "outputs": [
    {
     "name": "stdout",
     "output_type": "stream",
     "text": [
      "HTG 18\n",
      "IDR 1122\n",
      "KES 11801\n",
      "ZMW 152\n",
      "GHS 4348\n"
     ]
    }
   ],
   "source": [
    "# Print out the list of country currency codes, as well as the number of loans that in that country\n",
    "\n",
    "for country in countries:\n",
    "    print country, len(labeledLoanInfo[labeledLoanInfo.currency_code == country])"
   ]
  },
  {
   "cell_type": "code",
   "execution_count": 94,
   "metadata": {
    "collapsed": false
   },
   "outputs": [
    {
     "data": {
      "image/png": "[encoded data removed]",
      "text/plain": [
       "<matplotlib.figure.Figure at 0x118d01c50>"
      ]
     },
     "metadata": {},
     "output_type": "display_data"
    }
   ],
   "source": [
    "# Make a bar plot with bars corresponding to different countries\n",
    "\n",
    "indicies = np.arange(len(checkDates))\n",
    "width = 0.3\n",
    "\n",
    "fig, ax = plt.subplots(figsize = (7,4))\n",
    "\n",
    "rects1 = ax.bar(indicies, laterates_country['KES']['fraction_late'], width, color = 'crimson', \n",
    "               yerr= laterates_country['KES']['CI'], error_kw=dict(ecolor='black', lw=1, capsize=5, capthick=1))\n",
    "rects2 = ax.bar(indicies + width, laterates_country['GHS']['fraction_late'], width, color='royalblue',\n",
    "                yerr=laterates_country['GHS']['CI'], error_kw=dict(ecolor='black', lw=1, capsize=5, capthick=1))\n",
    "rects3 = ax.bar(indicies + 2*width, laterates_country['IDR']['fraction_late'], width, color='seagreen', \n",
    "                yerr=laterates_country['IDR']['CI'], error_kw=dict(ecolor='black', lw=1, capsize=5, capthick=1))\n",
    "\n",
    "#ax.set_ylabel('Late Rate For Outstanding Loans')\n",
    "#ax.set_xlabel('Days after Week1 Loan Due')\n",
    "#ax.set_title('6 Month Late Payment Risk')\n",
    "ax.set_xticks(indicies + (float(4)/3)*width)\n",
    "ax.set_xticklabels((checkDates))\n",
    "ax.legend((rects1[0], rects2[0], rects3[0]), ('KES', 'GHS', 'IDR'), loc = 'best', bbox_to_anchor=(1, 0.5),\n",
    "         prop={'size':12})\n",
    "for item in (ax.get_xticklabels() + ax.get_yticklabels()):\n",
    "    item.set_fontsize(14)\n",
    "\n",
    "plt.show()"
   ]
  },
  {
   "cell_type": "markdown",
   "metadata": {},
   "source": [
    "## Prediction of second loan on-time repayment based on first loan"
   ]
  },
  {
   "cell_type": "code",
   "execution_count": 135,
   "metadata": {
    "collapsed": false
   },
   "outputs": [
    {
     "data": {
      "text/html": [
       "<div>\n",
       "<table border=\"1\" class=\"dataframe\">\n",
       "  <thead>\n",
       "    <tr style=\"text-align: right;\">\n",
       "      <th></th>\n",
       "      <th>loan_id</th>\n",
       "      <th>borrower_id</th>\n",
       "      <th>disbursed_at</th>\n",
       "      <th>due_date</th>\n",
       "      <th>time_diff</th>\n",
       "      <th>due_amount</th>\n",
       "      <th>paid_amount</th>\n",
       "      <th>loan_amt</th>\n",
       "      <th>lender_interest_rate</th>\n",
       "      <th>applied_at</th>\n",
       "      <th>time_diff_app_disb</th>\n",
       "      <th>currency_code</th>\n",
       "      <th>borrower_id_y</th>\n",
       "      <th>late</th>\n",
       "    </tr>\n",
       "  </thead>\n",
       "  <tbody>\n",
       "    <tr>\n",
       "      <th>0</th>\n",
       "      <td>20157</td>\n",
       "      <td>32768</td>\n",
       "      <td>2015-07-22</td>\n",
       "      <td>2015-08-02</td>\n",
       "      <td>0</td>\n",
       "      <td>8</td>\n",
       "      <td>8</td>\n",
       "      <td>146</td>\n",
       "      <td>0</td>\n",
       "      <td>2015-07-07</td>\n",
       "      <td>14</td>\n",
       "      <td>KES</td>\n",
       "      <td>32768</td>\n",
       "      <td>0</td>\n",
       "    </tr>\n",
       "    <tr>\n",
       "      <th>1</th>\n",
       "      <td>14880</td>\n",
       "      <td>32777</td>\n",
       "      <td>2015-03-11</td>\n",
       "      <td>2015-03-22</td>\n",
       "      <td>0</td>\n",
       "      <td>2</td>\n",
       "      <td>2</td>\n",
       "      <td>100</td>\n",
       "      <td>0</td>\n",
       "      <td>2015-03-05</td>\n",
       "      <td>5</td>\n",
       "      <td>KES</td>\n",
       "      <td>32777</td>\n",
       "      <td>1</td>\n",
       "    </tr>\n",
       "    <tr>\n",
       "      <th>2</th>\n",
       "      <td>20236</td>\n",
       "      <td>32779</td>\n",
       "      <td>2015-07-21</td>\n",
       "      <td>2015-08-02</td>\n",
       "      <td>1</td>\n",
       "      <td>7</td>\n",
       "      <td>7</td>\n",
       "      <td>198</td>\n",
       "      <td>0</td>\n",
       "      <td>2015-07-08</td>\n",
       "      <td>12</td>\n",
       "      <td>IDR</td>\n",
       "      <td>32779</td>\n",
       "      <td>1</td>\n",
       "    </tr>\n",
       "    <tr>\n",
       "      <th>3</th>\n",
       "      <td>22233</td>\n",
       "      <td>32780</td>\n",
       "      <td>2015-08-28</td>\n",
       "      <td>2015-09-06</td>\n",
       "      <td>1</td>\n",
       "      <td>4</td>\n",
       "      <td>4</td>\n",
       "      <td>120</td>\n",
       "      <td>0</td>\n",
       "      <td>2015-08-20</td>\n",
       "      <td>8</td>\n",
       "      <td>KES</td>\n",
       "      <td>32780</td>\n",
       "      <td>0</td>\n",
       "    </tr>\n",
       "    <tr>\n",
       "      <th>4</th>\n",
       "      <td>22233</td>\n",
       "      <td>32780</td>\n",
       "      <td>2015-08-28</td>\n",
       "      <td>2015-09-06</td>\n",
       "      <td>1</td>\n",
       "      <td>4</td>\n",
       "      <td>4</td>\n",
       "      <td>120</td>\n",
       "      <td>0</td>\n",
       "      <td>2015-08-20</td>\n",
       "      <td>8</td>\n",
       "      <td>KES</td>\n",
       "      <td>32780</td>\n",
       "      <td>0</td>\n",
       "    </tr>\n",
       "  </tbody>\n",
       "</table>\n",
       "</div>"
      ],
      "text/plain": [
       "   loan_id  borrower_id disbursed_at    due_date  time_diff  due_amount  \\\n",
       "0    20157        32768   2015-07-22  2015-08-02          0           8   \n",
       "1    14880        32777   2015-03-11  2015-03-22          0           2   \n",
       "2    20236        32779   2015-07-21  2015-08-02          1           7   \n",
       "3    22233        32780   2015-08-28  2015-09-06          1           4   \n",
       "4    22233        32780   2015-08-28  2015-09-06          1           4   \n",
       "\n",
       "   paid_amount  loan_amt  lender_interest_rate  applied_at  \\\n",
       "0            8       146                     0  2015-07-07   \n",
       "1            2       100                     0  2015-03-05   \n",
       "2            7       198                     0  2015-07-08   \n",
       "3            4       120                     0  2015-08-20   \n",
       "4            4       120                     0  2015-08-20   \n",
       "\n",
       "   time_diff_app_disb currency_code  borrower_id_y  late  \n",
       "0                  14           KES          32768     0  \n",
       "1                   5           KES          32777     1  \n",
       "2                  12           IDR          32779     1  \n",
       "3                   8           KES          32780     0  \n",
       "4                   8           KES          32780     0  "
      ]
     },
     "execution_count": 135,
     "metadata": {},
     "output_type": "execute_result"
    }
   ],
   "source": [
    "# rename columns that will evetually merged\n",
    "mlb_fl_labeled.rename(columns = {'borrower_id_x': 'borrower_id'}, inplace = True)\n",
    "mlb_sl_labeled.rename(columns = {'borrower_id_x': 'borrower_id'}, inplace = True)\n",
    "mlb_sl_labeled.head()"
   ]
  },
  {
   "cell_type": "code",
   "execution_count": 136,
   "metadata": {
    "collapsed": false
   },
   "outputs": [],
   "source": [
    "# Merge mlb_fl and mlb_sl dataframes on borrower_id in order to compare two loans from the same borrower\n",
    "# The suffix _1 corresponds to the first loan, _2 corresponds to the second\n",
    "\n",
    "multiloans_labeled = pd.merge(mlb_fl_labeled, mlb_sl_labeled, how = 'inner', on = 'borrower_id', suffixes=('_1', '_2'))"
   ]
  },
  {
   "cell_type": "code",
   "execution_count": 153,
   "metadata": {
    "collapsed": false
   },
   "outputs": [
    {
     "name": "stdout",
     "output_type": "stream",
     "text": [
      "['loan_id_1' 'borrower_id' 'disbursed_at_1' 'due_date_1' 'time_diff_1'\n",
      " 'due_amount_1' 'paid_amount_1' 'loan_amt_1' 'lender_interest_rate_1'\n",
      " 'applied_at_1' 'time_diff_app_disb_1' 'currency_code_1' 'borrower_id_y_1'\n",
      " 'late_1' 'loan_id_2' 'disbursed_at_2' 'due_date_2' 'time_diff_2'\n",
      " 'due_amount_2' 'paid_amount_2' 'loan_amt_2' 'lender_interest_rate_2'\n",
      " 'applied_at_2' 'time_diff_app_disb_2' 'currency_code_2' 'borrower_id_y_2'\n",
      " 'late_2' 'appTimeDiff' 'InstallmentToLoanRatio1' 'InstallmentToLoanRatio2'\n",
      " 'PaidToDue_ratio' 'loanRatio']\n"
     ]
    },
    {
     "data": {
      "text/html": [
       "<div>\n",
       "<table border=\"1\" class=\"dataframe\">\n",
       "  <thead>\n",
       "    <tr style=\"text-align: right;\">\n",
       "      <th></th>\n",
       "      <th>loan_id_1</th>\n",
       "      <th>borrower_id</th>\n",
       "      <th>disbursed_at_1</th>\n",
       "      <th>due_date_1</th>\n",
       "      <th>time_diff_1</th>\n",
       "      <th>due_amount_1</th>\n",
       "      <th>paid_amount_1</th>\n",
       "      <th>loan_amt_1</th>\n",
       "      <th>lender_interest_rate_1</th>\n",
       "      <th>applied_at_1</th>\n",
       "      <th>...</th>\n",
       "      <th>applied_at_2</th>\n",
       "      <th>time_diff_app_disb_2</th>\n",
       "      <th>currency_code_2</th>\n",
       "      <th>borrower_id_y_2</th>\n",
       "      <th>late_2</th>\n",
       "      <th>appTimeDiff</th>\n",
       "      <th>InstallmentToLoanRatio1</th>\n",
       "      <th>InstallmentToLoanRatio2</th>\n",
       "      <th>PaidToDue_ratio</th>\n",
       "      <th>loanRatio</th>\n",
       "    </tr>\n",
       "  </thead>\n",
       "  <tbody>\n",
       "    <tr>\n",
       "      <th>0</th>\n",
       "      <td>16330</td>\n",
       "      <td>32768</td>\n",
       "      <td>2015-04-22</td>\n",
       "      <td>2015-05-03</td>\n",
       "      <td>0</td>\n",
       "      <td>7.00</td>\n",
       "      <td>7.00</td>\n",
       "      <td>78</td>\n",
       "      <td>0</td>\n",
       "      <td>2015-04-11</td>\n",
       "      <td>...</td>\n",
       "      <td>2015-07-07</td>\n",
       "      <td>14</td>\n",
       "      <td>KES</td>\n",
       "      <td>32768</td>\n",
       "      <td>0</td>\n",
       "      <td>87</td>\n",
       "      <td>0.089744</td>\n",
       "      <td>0.054795</td>\n",
       "      <td>0.875</td>\n",
       "      <td>1.871795</td>\n",
       "    </tr>\n",
       "    <tr>\n",
       "      <th>1</th>\n",
       "      <td>28020</td>\n",
       "      <td>32777</td>\n",
       "      <td>2016-02-07</td>\n",
       "      <td>2016-02-18</td>\n",
       "      <td>2</td>\n",
       "      <td>2.01</td>\n",
       "      <td>2.01</td>\n",
       "      <td>91</td>\n",
       "      <td>0</td>\n",
       "      <td>2016-02-06</td>\n",
       "      <td>...</td>\n",
       "      <td>2015-03-05</td>\n",
       "      <td>5</td>\n",
       "      <td>KES</td>\n",
       "      <td>32777</td>\n",
       "      <td>1</td>\n",
       "      <td>-338</td>\n",
       "      <td>0.022088</td>\n",
       "      <td>0.020000</td>\n",
       "      <td>1.005</td>\n",
       "      <td>1.098901</td>\n",
       "    </tr>\n",
       "    <tr>\n",
       "      <th>2</th>\n",
       "      <td>14876</td>\n",
       "      <td>32779</td>\n",
       "      <td>2015-03-28</td>\n",
       "      <td>2015-04-05</td>\n",
       "      <td>0</td>\n",
       "      <td>7.00</td>\n",
       "      <td>7.00</td>\n",
       "      <td>100</td>\n",
       "      <td>0</td>\n",
       "      <td>2015-03-05</td>\n",
       "      <td>...</td>\n",
       "      <td>2015-07-08</td>\n",
       "      <td>12</td>\n",
       "      <td>IDR</td>\n",
       "      <td>32779</td>\n",
       "      <td>1</td>\n",
       "      <td>125</td>\n",
       "      <td>0.070000</td>\n",
       "      <td>0.035354</td>\n",
       "      <td>1.000</td>\n",
       "      <td>1.980000</td>\n",
       "    </tr>\n",
       "    <tr>\n",
       "      <th>3</th>\n",
       "      <td>15267</td>\n",
       "      <td>32780</td>\n",
       "      <td>2015-03-18</td>\n",
       "      <td>2015-03-29</td>\n",
       "      <td>0</td>\n",
       "      <td>3.00</td>\n",
       "      <td>3.00</td>\n",
       "      <td>99</td>\n",
       "      <td>0</td>\n",
       "      <td>2015-03-13</td>\n",
       "      <td>...</td>\n",
       "      <td>2015-08-20</td>\n",
       "      <td>8</td>\n",
       "      <td>KES</td>\n",
       "      <td>32780</td>\n",
       "      <td>0</td>\n",
       "      <td>160</td>\n",
       "      <td>0.030303</td>\n",
       "      <td>0.033333</td>\n",
       "      <td>0.750</td>\n",
       "      <td>1.212121</td>\n",
       "    </tr>\n",
       "    <tr>\n",
       "      <th>4</th>\n",
       "      <td>15267</td>\n",
       "      <td>32780</td>\n",
       "      <td>2015-03-18</td>\n",
       "      <td>2015-03-29</td>\n",
       "      <td>0</td>\n",
       "      <td>3.00</td>\n",
       "      <td>3.00</td>\n",
       "      <td>99</td>\n",
       "      <td>0</td>\n",
       "      <td>2015-03-13</td>\n",
       "      <td>...</td>\n",
       "      <td>2015-08-20</td>\n",
       "      <td>8</td>\n",
       "      <td>KES</td>\n",
       "      <td>32780</td>\n",
       "      <td>0</td>\n",
       "      <td>160</td>\n",
       "      <td>0.030303</td>\n",
       "      <td>0.033333</td>\n",
       "      <td>0.750</td>\n",
       "      <td>1.212121</td>\n",
       "    </tr>\n",
       "  </tbody>\n",
       "</table>\n",
       "<p>5 rows × 32 columns</p>\n",
       "</div>"
      ],
      "text/plain": [
       "   loan_id_1  borrower_id disbursed_at_1  due_date_1  time_diff_1  \\\n",
       "0      16330        32768     2015-04-22  2015-05-03            0   \n",
       "1      28020        32777     2016-02-07  2016-02-18            2   \n",
       "2      14876        32779     2015-03-28  2015-04-05            0   \n",
       "3      15267        32780     2015-03-18  2015-03-29            0   \n",
       "4      15267        32780     2015-03-18  2015-03-29            0   \n",
       "\n",
       "   due_amount_1  paid_amount_1  loan_amt_1  lender_interest_rate_1  \\\n",
       "0          7.00           7.00          78                       0   \n",
       "1          2.01           2.01          91                       0   \n",
       "2          7.00           7.00         100                       0   \n",
       "3          3.00           3.00          99                       0   \n",
       "4          3.00           3.00          99                       0   \n",
       "\n",
       "  applied_at_1    ...      applied_at_2 time_diff_app_disb_2  currency_code_2  \\\n",
       "0   2015-04-11    ...        2015-07-07                   14              KES   \n",
       "1   2016-02-06    ...        2015-03-05                    5              KES   \n",
       "2   2015-03-05    ...        2015-07-08                   12              IDR   \n",
       "3   2015-03-13    ...        2015-08-20                    8              KES   \n",
       "4   2015-03-13    ...        2015-08-20                    8              KES   \n",
       "\n",
       "   borrower_id_y_2  late_2 appTimeDiff InstallmentToLoanRatio1  \\\n",
       "0            32768       0          87                0.089744   \n",
       "1            32777       1        -338                0.022088   \n",
       "2            32779       1         125                0.070000   \n",
       "3            32780       0         160                0.030303   \n",
       "4            32780       0         160                0.030303   \n",
       "\n",
       "   InstallmentToLoanRatio2  PaidToDue_ratio  loanRatio  \n",
       "0                 0.054795            0.875   1.871795  \n",
       "1                 0.020000            1.005   1.098901  \n",
       "2                 0.035354            1.000   1.980000  \n",
       "3                 0.033333            0.750   1.212121  \n",
       "4                 0.033333            0.750   1.212121  \n",
       "\n",
       "[5 rows x 32 columns]"
      ]
     },
     "execution_count": 153,
     "metadata": {},
     "output_type": "execute_result"
    }
   ],
   "source": [
    "# Make some derived columns based on other columns in the data\n",
    "\n",
    "multiloans_labeled['appTimeDiff'] = (multiloans_labeled.applied_at_2 - multiloans_labeled.applied_at_1)/pd.Timedelta(days = 1)\n",
    "multiloans_labeled['InstallmentToLoanRatio1'] = multiloans_labeled.due_amount_1/multiloans_labeled.loan_amt_1\n",
    "multiloans_labeled['InstallmentToLoanRatio2'] = multiloans_labeled.due_amount_2/multiloans_labeled.loan_amt_2\n",
    "multiloans_labeled['PaidToDue_ratio'] = multiloans_labeled.paid_amount_1/ multiloans_labeled.paid_amount_2\n",
    "multiloans_labeled['loanRatio'] = multiloans_labeled.loan_amt_2/multiloans_labeled.loan_amt_1\n",
    "print multiloans_labeled.columns.values\n",
    "multiloans_labeled.head()"
   ]
  },
  {
   "cell_type": "markdown",
   "metadata": {},
   "source": [
    "### Exploratory analysis"
   ]
  },
  {
   "cell_type": "code",
   "execution_count": 141,
   "metadata": {
    "collapsed": false
   },
   "outputs": [
    {
     "data": {
      "text/plain": [
       "[(-5, 600)]"
      ]
     },
     "execution_count": 141,
     "metadata": {},
     "output_type": "execute_result"
    },
    {
     "data": {
      "image/png": "[encoded data removed]",
      "text/plain": [
       "<matplotlib.figure.Figure at 0x11859c050>"
      ]
     },
     "metadata": {},
     "output_type": "display_data"
    }
   ],
   "source": [
    "# Time between applied dates for first and second loans\n",
    "\n",
    "ax = sns.boxplot(x=\"late_2\", y=\"appTimeDiff\", data=multiloans_labeled)\n",
    "ax.set(ylim=(-5, 600))"
   ]
  },
  {
   "cell_type": "code",
   "execution_count": 215,
   "metadata": {
    "collapsed": false
   },
   "outputs": [
    {
     "data": {
      "text/plain": [
       "[(0, 0.3)]"
      ]
     },
     "execution_count": 215,
     "metadata": {},
     "output_type": "execute_result"
    },
    {
     "data": {
      "image/png": "[encoded data removed]",
      "text/plain": [
       "<matplotlib.figure.Figure at 0x1153011d0>"
      ]
     },
     "metadata": {},
     "output_type": "display_data"
    }
   ],
   "source": [
    "# Ratio of weekly installment due amount to total loan amount for first loan\n",
    "\n",
    "ax = sns.boxplot(x=\"late_2\", y=\"InstallmentToLoanRatio1\", data=multiloans_labeled)\n",
    "ax.set(ylim=(0, 0.3))"
   ]
  },
  {
   "cell_type": "code",
   "execution_count": 256,
   "metadata": {
    "collapsed": false
   },
   "outputs": [
    {
     "data": {
      "text/plain": [
       "Ks_2sampResult(statistic=0.08198263013433166, pvalue=0.0001426137945330437)"
      ]
     },
     "execution_count": 256,
     "metadata": {},
     "output_type": "execute_result"
    }
   ],
   "source": [
    "stats.ks_2samp( multiloans_labeled[multiloans_labeled.late_2 == 0].InstallmentToLoanRatio1,\n",
    "                multiloans_labeled[multiloans_labeled.late_2 == 1].InstallmentToLoanRatio1)"
   ]
  },
  {
   "cell_type": "code",
   "execution_count": 216,
   "metadata": {
    "collapsed": false
   },
   "outputs": [
    {
     "data": {
      "text/plain": [
       "[(0, 0.3)]"
      ]
     },
     "execution_count": 216,
     "metadata": {},
     "output_type": "execute_result"
    },
    {
     "data": {
      "image/png": "[encoded data removed]",
      "text/plain": [
       "<matplotlib.figure.Figure at 0x118d01810>"
      ]
     },
     "metadata": {},
     "output_type": "display_data"
    }
   ],
   "source": [
    "# Ratio of weekly installment due amount to total loan amount for second loan\n",
    "\n",
    "ax = sns.boxplot(x=\"late_2\", y=\"InstallmentToLoanRatio2\", data=multiloans_labeled)\n",
    "ax.set(ylim=(0, 0.3))"
   ]
  },
  {
   "cell_type": "code",
   "execution_count": 255,
   "metadata": {
    "collapsed": false
   },
   "outputs": [
    {
     "data": {
      "text/plain": [
       "Ks_2sampResult(statistic=0.27337646324250725, pvalue=1.5510964407206617e-46)"
      ]
     },
     "execution_count": 255,
     "metadata": {},
     "output_type": "execute_result"
    }
   ],
   "source": [
    "stats.ks_2samp( multiloans_labeled[multiloans_labeled.late_2 == 0].InstallmentToLoanRatio2,\n",
    "                multiloans_labeled[multiloans_labeled.late_2 == 1].InstallmentToLoanRatio2)"
   ]
  },
  {
   "cell_type": "code",
   "execution_count": 254,
   "metadata": {
    "collapsed": false
   },
   "outputs": [
    {
     "data": {
      "text/plain": [
       "1     0.020000\n",
       "2     0.035354\n",
       "6     0.064171\n",
       "11    0.059140\n",
       "32    0.036458\n",
       "Name: InstallmentToLoanRatio2, dtype: float64"
      ]
     },
     "execution_count": 254,
     "metadata": {},
     "output_type": "execute_result"
    }
   ],
   "source": [
    " multiloans_labeled[multiloans_labeled.late_2 == 1].InstallmentToLoanRatio2"
   ]
  },
  {
   "cell_type": "code",
   "execution_count": 148,
   "metadata": {
    "collapsed": false
   },
   "outputs": [
    {
     "data": {
      "text/plain": [
       "[(0, 5)]"
      ]
     },
     "execution_count": 148,
     "metadata": {},
     "output_type": "execute_result"
    },
    {
     "data": {
      "image/png": "[encoded data removed]",
      "text/plain": [
       "<matplotlib.figure.Figure at 0x11b51fdd0>"
      ]
     },
     "metadata": {},
     "output_type": "display_data"
    }
   ],
   "source": [
    "# Ratio of paid amount to due amount for first installment of first loan\n",
    "\n",
    "ax = sns.boxplot(x=\"late_2\", y=\"PaidToDue_ratio\", data=multiloans_labeled)\n",
    "ax.set(ylim=(0, 5))"
   ]
  },
  {
   "cell_type": "code",
   "execution_count": 173,
   "metadata": {
    "collapsed": false
   },
   "outputs": [
    {
     "data": {
      "text/plain": [
       "[(-2, 10)]"
      ]
     },
     "execution_count": 173,
     "metadata": {},
     "output_type": "execute_result"
    },
    {
     "data": {
      "image/png": "[encoded data removed]",
      "text/plain": [
       "<matplotlib.figure.Figure at 0x11b3beb50>"
      ]
     },
     "metadata": {},
     "output_type": "display_data"
    }
   ],
   "source": [
    "# Ratio of amount of first loan to amount of second loan\n",
    "\n",
    "ax = sns.violinplot(x=\"late_2\", y=\"loanRatio\", data=multiloans_labeled)\n",
    "ax.set(ylim=(-2, 10))"
   ]
  },
  {
   "cell_type": "code",
   "execution_count": 213,
   "metadata": {
    "collapsed": false
   },
   "outputs": [],
   "source": [
    "# Based on these distinct distributions, it seems possible to differentiate between the different populations\n",
    "# and suggests that it might be possible to classify second loan timeliness based on first loan and initial second\n",
    "# loan characteristics.\n",
    "\n",
    "# Xlr = multiloans_labeled[['time_diff_1', 'due_amount_1', 'loan_amt_1', 'late_1','due_amount_2', 'loan_amt_2',\n",
    "#                        'appTimeDiff', 'InstallmentToLoanRatio1']]\n",
    "Xlr = X\n",
    "Xlr_norm = preprocessing.normalize(X)\n",
    "#labels = multiloans_labeled.late_2\n",
    "labels = np.ravel(y)\n",
    "\n",
    "# Split features and labels into train and test sets\n",
    "X_train_lr, X_test_lr, y_train_lr, y_test_lr = train_test_split(Xlr_norm, labels, test_size=0.3, random_state=0)"
   ]
  },
  {
   "cell_type": "code",
   "execution_count": 214,
   "metadata": {
    "collapsed": false
   },
   "outputs": [
    {
     "name": "stdout",
     "output_type": "stream",
     "text": [
      "0.825700164745\n",
      "             precision    recall  f1-score   support\n",
      "\n",
      "          0       0.82      1.00      0.90      1064\n",
      "          1       0.50      0.01      0.02       238\n",
      "\n",
      "avg / total       0.76      0.82      0.74      1302\n",
      "\n"
     ]
    }
   ],
   "source": [
    "model = LogisticRegression()\n",
    "model = model.fit(X_train_lr, y_train_lr)\n",
    "print model.score(X_train_lr, y_train_lr)\n",
    "lrpredicted = model.predict(X_test_lr)\n",
    "lrprobs = model.predict_proba(X_test_lr)\n",
    "print metrics.classification_report(y_test_lr, lrpredicted)"
   ]
  },
  {
   "cell_type": "code",
   "execution_count": 190,
   "metadata": {
    "collapsed": false
   },
   "outputs": [
    {
     "data": {
      "image/png": "[encoded data removed]",
      "text/plain": [
       "<matplotlib.figure.Figure at 0x11b9f1910>"
      ]
     },
     "metadata": {},
     "output_type": "display_data"
    }
   ],
   "source": [
    "fpr, tpr, thresholds = metrics.roc_curve(y_test_lr, lrprobs[:,1])\n",
    "roc_auc = metrics.auc(fpr, tpr)\n",
    "\n",
    "plt.title('Top Four Features RFC Model')\n",
    "plt.plot(fpr, tpr, 'b', label = 'AUC = %0.2f' % roc_auc)\n",
    "plt.legend(loc = 'lower right')\n",
    "plt.plot([0, 1], [0, 1],'r--')\n",
    "plt.xlim([0, 1])\n",
    "plt.ylim([0, 1])\n",
    "plt.ylabel('True Positive Rate')\n",
    "plt.xlabel('False Positive Rate')\n",
    "plt.show()"
   ]
  },
  {
   "cell_type": "code",
   "execution_count": 182,
   "metadata": {
    "collapsed": false
   },
   "outputs": [
    {
     "data": {
      "text/html": [
       "<div>\n",
       "<table border=\"1\" class=\"dataframe\">\n",
       "  <thead>\n",
       "    <tr style=\"text-align: right;\">\n",
       "      <th></th>\n",
       "      <th>feature_name</th>\n",
       "      <th>weight_1</th>\n",
       "    </tr>\n",
       "  </thead>\n",
       "  <tbody>\n",
       "    <tr>\n",
       "      <th>0</th>\n",
       "      <td>time_diff_1</td>\n",
       "      <td>[-0.201089987943]</td>\n",
       "    </tr>\n",
       "    <tr>\n",
       "      <th>1</th>\n",
       "      <td>due_amount_1</td>\n",
       "      <td>[-1.99847286352]</td>\n",
       "    </tr>\n",
       "    <tr>\n",
       "      <th>2</th>\n",
       "      <td>loan_amt_1</td>\n",
       "      <td>[-3.58057384139]</td>\n",
       "    </tr>\n",
       "    <tr>\n",
       "      <th>3</th>\n",
       "      <td>late_1</td>\n",
       "      <td>[0.125467428078]</td>\n",
       "    </tr>\n",
       "    <tr>\n",
       "      <th>4</th>\n",
       "      <td>due_amount_2</td>\n",
       "      <td>[-5.95478824698]</td>\n",
       "    </tr>\n",
       "    <tr>\n",
       "      <th>5</th>\n",
       "      <td>loan_amt_2</td>\n",
       "      <td>[1.56569377022]</td>\n",
       "    </tr>\n",
       "    <tr>\n",
       "      <th>6</th>\n",
       "      <td>appTimeDiff</td>\n",
       "      <td>[0.897482866873]</td>\n",
       "    </tr>\n",
       "    <tr>\n",
       "      <th>7</th>\n",
       "      <td>InstallmentToLoanRatio1</td>\n",
       "      <td>[-0.0693694940221]</td>\n",
       "    </tr>\n",
       "  </tbody>\n",
       "</table>\n",
       "</div>"
      ],
      "text/plain": [
       "              feature_name            weight_1\n",
       "0              time_diff_1   [-0.201089987943]\n",
       "1             due_amount_1    [-1.99847286352]\n",
       "2               loan_amt_1    [-3.58057384139]\n",
       "3                   late_1    [0.125467428078]\n",
       "4             due_amount_2    [-5.95478824698]\n",
       "5               loan_amt_2     [1.56569377022]\n",
       "6              appTimeDiff    [0.897482866873]\n",
       "7  InstallmentToLoanRatio1  [-0.0693694940221]"
      ]
     },
     "execution_count": 182,
     "metadata": {},
     "output_type": "execute_result"
    }
   ],
   "source": [
    "LR1 = pd.DataFrame(zip(Xlr.columns, np.transpose(model.coef_)))\n",
    "LR1.columns = ['feature_name', 'weight_1']\n",
    "LR1"
   ]
  },
  {
   "cell_type": "code",
   "execution_count": 224,
   "metadata": {
    "collapsed": false
   },
   "outputs": [
    {
     "data": {
      "text/plain": [
       "[(-100, 100)]"
      ]
     },
     "execution_count": 224,
     "metadata": {},
     "output_type": "execute_result"
    },
    {
     "data": {
      "image/png": "[encoded data removed]",
      "text/plain": [
       "<matplotlib.figure.Figure at 0x11aaeed90>"
      ]
     },
     "metadata": {},
     "output_type": "display_data"
    }
   ],
   "source": [
    "# mean (paid - due) time differences\n",
    "\n",
    "ax = sns.boxplot(x=\"late_2\", y=\"mean_td\", data=multiloans_extra)\n",
    "ax.set(ylim=(-100, 100))"
   ]
  },
  {
   "cell_type": "code",
   "execution_count": 221,
   "metadata": {
    "collapsed": false
   },
   "outputs": [
    {
     "data": {
      "text/plain": [
       "[(0, 150)]"
      ]
     },
     "execution_count": 221,
     "metadata": {},
     "output_type": "execute_result"
    },
    {
     "data": {
      "image/png": "[encoded data removed]",
      "text/plain": [
       "<matplotlib.figure.Figure at 0x11460b0d0>"
      ]
     },
     "metadata": {},
     "output_type": "display_data"
    }
   ],
   "source": [
    "# Std (paid - due) time differences\n",
    "\n",
    "ax = sns.boxplot(x=\"late_2\", y=\"std_td\", data=multiloans_extra)\n",
    "ax.set(ylim=(0, 150))"
   ]
  }
 ],
 "metadata": {
  "kernelspec": {
   "display_name": "Python 2",
   "language": "python",
   "name": "python2"
  },
  "language_info": {
   "codemirror_mode": {
    "name": "ipython",
    "version": 2
   },
   "file_extension": ".py",
   "mimetype": "text/x-python",
   "name": "python",
   "nbconvert_exporter": "python",
   "pygments_lexer": "ipython2",
   "version": "2.7.12"
  }
 },
 "nbformat": 4,
 "nbformat_minor": 0
}
